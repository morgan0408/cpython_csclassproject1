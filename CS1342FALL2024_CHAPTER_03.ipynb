{
  "nbformat": 4,
  "nbformat_minor": 0,
  "metadata": {
    "colab": {
      "provenance": [],
      "collapsed_sections": [
        "Swizkleghe-l",
        "0iAxTJC5hWT1",
        "cdVobkogh5uq",
        "SHGGFnXPh8E_",
        "BS9886M_i_jk",
        "kKvl29BZjrov",
        "jr2I9rOHjv-h",
        "LulE0NOJkxHV",
        "ai2tCYZTk_X7",
        "mYRGcBwKmE_w",
        "nu0gXrjEl91U",
        "-kyyJtwAnkIM",
        "cUPY-XYLon72",
        "zMoRiIQwo2rS",
        "WftyMD95pzpR",
        "UG8symPmr3rU",
        "deew8Wosvp1b",
        "UpFMA8Bsvudh",
        "xC8rmqRLvykN",
        "mbnMWlZjv5dl",
        "UuC1InO3v-ii"
      ],
      "include_colab_link": true
    },
    "kernelspec": {
      "name": "python3",
      "display_name": "Python 3"
    },
    "language_info": {
      "name": "python"
    }
  },
  "cells": [
    {
      "cell_type": "markdown",
      "metadata": {
        "id": "view-in-github",
        "colab_type": "text"
      },
      "source": [
        "<a href=\"https://colab.research.google.com/github/morgan0408/cpython_csclassproject1/blob/main/CS1342FALL2024_CHAPTER_03.ipynb\" target=\"_parent\"><img src=\"https://colab.research.google.com/assets/colab-badge.svg\" alt=\"Open In Colab\"/></a>"
      ]
    },
    {
      "cell_type": "markdown",
      "source": [
        "# **Understanding List Data Structure in Python**"
      ],
      "metadata": {
        "id": "Swizkleghe-l"
      }
    },
    {
      "cell_type": "markdown",
      "source": [
        "### **1. What is a List in Python?**\n",
        "\n",
        "- **Definition:**\n",
        "  - A list in Python is an ordered collection of items (elements) that can be of any data type. Lists are mutable, meaning the elements can be changed, added, or removed after the list has been created.\n",
        "\n",
        "- **Key Characteristics:**\n",
        "  - **Ordered:** The elements in a list have a specific order.\n",
        "  - **Mutable:** Elements in a list can be modified.\n",
        "  - **Heterogeneous:** A list can contain elements of different data types (e.g., integers, strings, floats).\n",
        "\n",
        "---\n",
        "\n",
        "### **2. Simple Ways to Create a List**\n",
        "\n",
        "#### **a. Creating an Empty List**\n",
        "\n",
        "- **Syntax:**\n",
        "  ```python\n",
        "  empty_list = []\n",
        "  ```\n",
        "\n",
        "- **Explanation:** Creates an empty list with no elements.\n",
        "\n",
        "---\n",
        "\n",
        "#### **b. Creating a List with Elements**\n",
        "\n",
        "- **Syntax:**\n",
        "  ```python\n",
        "  numbers = [1, 2, 3, 4, 5]\n",
        "  names = [\"Alice\", \"Bob\", \"Charlie\"]\n",
        "  mixed = [1, \"hello\", 3.14]\n",
        "  ```\n",
        "\n",
        "- **Explanation:**\n",
        "  - **`numbers`:** A list of integers.\n",
        "  - **`names`:** A list of strings.\n",
        "  - **`mixed`:** A list containing different data types (integer, string, float).\n",
        "\n",
        "---\n",
        "\n",
        "#### **c. Creating a List from a String**\n",
        "\n",
        "- **Syntax:**\n",
        "  ```python\n",
        "  characters = list(\"hello\")\n",
        "  ```\n",
        "\n",
        "- **Explanation:** Converts a string into a list of characters.\n",
        "- **Output:** `['h', 'e', 'l', 'l', 'o']`\n",
        "\n",
        "---\n",
        "\n",
        "#### **d. Creating a List Using the `range()` Function**\n",
        "\n",
        "- **Syntax:**\n",
        "  ```python\n",
        "  numbers = list(range(5))\n",
        "  ```\n",
        "\n",
        "- **Explanation:** Creates a list of integers from 0 to 4.\n",
        "- **Output:** `[0, 1, 2, 3, 4]`\n",
        "\n",
        "---\n",
        "\n",
        "#### **e. Creating a List with Repeated Elements**\n",
        "\n",
        "- **Syntax:**\n",
        "  ```python\n",
        "  repeated_list = [0] * 5\n",
        "  ```\n",
        "\n",
        "- **Explanation:** Creates a list with the element `0` repeated 5 times.\n",
        "- **Output:** `[0, 0, 0, 0, 0]`\n",
        "\n",
        "---\n",
        "\n",
        "### **3. Summary**\n",
        "\n",
        "- Lists in Python are versatile data structures that can hold a collection of elements in an ordered, mutable, and heterogeneous format.\n",
        "- There are several simple ways to create lists, including direct assignment, converting strings, using the `range()` function, and creating lists with repeated elements.\n",
        "\n",
        "---\n",
        "\n",
        "This slide provides a basic understanding of what lists are in Python and demonstrates several simple ways to create lists. It’s designed to introduce the concept in an accessible way for beginners."
      ],
      "metadata": {
        "id": "0iAxTJC5hWT1"
      }
    },
    {
      "cell_type": "code",
      "source": [],
      "metadata": {
        "id": "3_l1R6dsgJ32"
      },
      "execution_count": null,
      "outputs": []
    },
    {
      "cell_type": "code",
      "source": [],
      "metadata": {
        "id": "ilIHSZHrgKbc"
      },
      "execution_count": null,
      "outputs": []
    },
    {
      "cell_type": "code",
      "execution_count": null,
      "metadata": {
        "id": "-z_c3dNQhUko"
      },
      "outputs": [],
      "source": []
    },
    {
      "cell_type": "markdown",
      "source": [],
      "metadata": {
        "id": "yzyTZlrHgIPK"
      }
    },
    {
      "cell_type": "markdown",
      "source": [
        "# **Similarities Between Strings and Lists in Python**"
      ],
      "metadata": {
        "id": "cdVobkogh5uq"
      }
    },
    {
      "cell_type": "markdown",
      "source": [
        "### **1. Similarity: Indexing**\n",
        "\n",
        "- **Definition:**\n",
        "  - Both strings and lists are **ordered sequences** in Python, meaning you can access elements using indexing.\n",
        "\n",
        "#### **a. Indexing Example**\n",
        "\n",
        "- **String Indexing:**\n",
        "  ```python\n",
        "  text = \"hello\"\n",
        "  first_char = text[0]  # 'h'\n",
        "  last_char = text[-1]  # 'o'\n",
        "  ```\n",
        "\n",
        "- **List Indexing:**\n",
        "  ```python\n",
        "  numbers = [10, 20, 30, 40]\n",
        "  first_element = numbers[0]  # 10\n",
        "  last_element = numbers[-1]  # 40\n",
        "  ```\n",
        "\n",
        "- **Explanation:**\n",
        "  - Both strings and lists allow access to their elements using positive indexing (`0` for the first element) and negative indexing (`-1` for the last element).\n",
        "\n",
        "---\n",
        "\n",
        "### **2. Similarity: Slicing**\n",
        "\n",
        "- **Definition:**\n",
        "  - Both strings and lists support slicing, allowing you to extract subsequences.\n",
        "\n",
        "#### **a. Slicing Example**\n",
        "\n",
        "- **String Slicing:**\n",
        "  ```python\n",
        "  text = \"hello\"\n",
        "  slice_text = text[1:4]  # 'ell'\n",
        "  ```\n",
        "\n",
        "- **List Slicing:**\n",
        "  ```python\n",
        "  numbers = [10, 20, 30, 40]\n",
        "  slice_numbers = numbers[1:3]  # [20, 30]\n",
        "  ```\n",
        "\n",
        "- **Explanation:**\n",
        "  - Slicing allows you to extract a portion of a string or a list by specifying a start and end index.\n",
        "\n",
        "---\n",
        "\n",
        "### **3. Operation: Multiplication**\n",
        "\n",
        "- **Definition:**\n",
        "  - Both strings and lists can be \"multiplied\" by an integer to repeat their elements.\n",
        "\n",
        "#### **a. Multiplication Example**\n",
        "\n",
        "- **String Multiplication:**\n",
        "  ```python\n",
        "  text = \"hi\"\n",
        "  repeated_text = text * 3  # 'hihihi'\n",
        "  ```\n",
        "\n",
        "- **List Multiplication:**\n",
        "  ```python\n",
        "  numbers = [1, 2]\n",
        "  repeated_list = numbers * 3  # [1, 2, 1, 2, 1, 2]\n",
        "  ```\n",
        "\n",
        "- **Explanation:**\n",
        "  - Multiplying a string or a list by an integer `n` repeats the string or list `n` times.\n",
        "\n",
        "---\n",
        "\n",
        "### **4. Operation: Addition**\n",
        "\n",
        "- **Definition:**\n",
        "  - Both strings and lists can be \"added\" using the `+` operator to concatenate them.\n",
        "\n",
        "#### **a. Addition Example**\n",
        "\n",
        "- **String Addition:**\n",
        "  ```python\n",
        "  text1 = \"hello\"\n",
        "  text2 = \"world\"\n",
        "  combined_text = text1 + \" \" + text2  # 'hello world'\n",
        "  ```\n",
        "\n",
        "- **List Addition:**\n",
        "  ```python\n",
        "  list1 = [1, 2]\n",
        "  list2 = [3, 4]\n",
        "  combined_list = list1 + list2  # [1, 2, 3, 4]\n",
        "  ```\n",
        "\n",
        "- **Explanation:**\n",
        "  - Adding strings with `+` concatenates them into a single string. Adding lists with `+` concatenates them into a single list.\n",
        "\n",
        "---\n",
        "\n",
        "### **5. Summary**\n",
        "\n",
        "- **Indexing and Slicing:** Both strings and lists are ordered sequences, allowing access to elements via indexing and slicing.\n",
        "- **Multiplication:** Both can be multiplied by an integer to repeat their contents.\n",
        "- **Addition:** Both can be added together to concatenate their contents into a single string or list.\n",
        "\n",
        "---"
      ],
      "metadata": {
        "id": "SHGGFnXPh8E_"
      }
    },
    {
      "cell_type": "code",
      "source": [],
      "metadata": {
        "id": "E29RGlgGiCRa"
      },
      "execution_count": null,
      "outputs": []
    },
    {
      "cell_type": "markdown",
      "source": [
        "# **Mutable Nature**"
      ],
      "metadata": {
        "id": "BS9886M_i_jk"
      }
    },
    {
      "cell_type": "markdown",
      "source": [
        "### **Slide: Mutable vs Immutable Nature of Lists and Strings in Python**\n",
        "\n",
        "---\n",
        "\n",
        "### **1. Immutability of Strings**\n",
        "\n",
        "- **Strings are Immutable:**\n",
        "  - When you copy a string to a new variable and modify the new string, the original string remains unchanged.\n",
        "\n",
        "#### **Example:**\n",
        "```python\n",
        "original_text = \"hello\"\n",
        "new_text = original_text\n",
        "new_text = \"H\" + new_text[1:]  # 'Hello'\n",
        "print(original_text)  # Output: 'hello'\n",
        "```\n",
        "\n",
        "- **Explanation:**\n",
        "  - Modifying `new_text` creates a new string; `original_text` is unaffected.\n",
        "\n",
        "---\n",
        "\n",
        "### **2. Mutability of Lists**\n",
        "\n",
        "- **Lists are Mutable:**\n",
        "  - When you copy a list to a new variable and modify the new list, the original list is also modified.\n",
        "\n",
        "#### **Example:**\n",
        "```python\n",
        "original_list = [1, 2, 3]\n",
        "new_list = original_list\n",
        "new_list[0] = 10\n",
        "print(original_list)  # Output: [10, 2, 3]\n",
        "```\n",
        "\n",
        "- **Explanation:**\n",
        "  - Both `new_list` and `original_list` reference the same list, so changes affect both.\n",
        "\n",
        "---\n",
        "\n",
        "### **3. Summary**\n",
        "\n",
        "- **Strings:** Immutable; copying and modifying does not affect the original.\n",
        "- **Lists:** Mutable; copying and modifying affects the original because they share the same reference.\n",
        "\n",
        "---"
      ],
      "metadata": {
        "id": "iCgS4wPKjFOP"
      }
    },
    {
      "cell_type": "code",
      "source": [],
      "metadata": {
        "id": "rgKz052ijElY"
      },
      "execution_count": null,
      "outputs": []
    },
    {
      "cell_type": "markdown",
      "source": [
        "# **Nested List Examples**"
      ],
      "metadata": {
        "id": "kKvl29BZjrov"
      }
    },
    {
      "cell_type": "markdown",
      "source": [
        "#### **Tabular Data:**\n",
        "\n",
        "| **Material**  | **Density (kg/m³)** | **Young's Modulus (GPa)** | **Thermal Conductivity (W/m·K)** |\n",
        "|---------------|---------------------|---------------------------|----------------------------------|\n",
        "| Steel         | 7850                | 210                       | 50                               |\n",
        "| Aluminum      | 2700                | 69                        | 237                              |\n",
        "| Copper        | 8960                | 110                       | 401                              |\n",
        "| Titanium      | 4500                | 116                       | 22                               |\n",
        "| Brass         | 8530                | 100                       | 109                              |\n",
        "\n",
        "---\n",
        "\n",
        "### **2. Representing Data as a Nested List**\n",
        "\n",
        "- **Definition:**\n",
        "  - A nested list in Python is a list that contains other lists as its elements. This structure is useful for representing tabular data.\n",
        "\n",
        "#### **Example: Nested List for the Tabular Data**\n",
        "\n",
        "```python\n",
        "mechanical_data = [\n",
        "    [\"Material\", \"Density (kg/m³)\", \"Young's Modulus (GPa)\", \"Thermal Conductivity (W/m·K)\"],\n",
        "    [\"Steel\", 7850, 210, 50],\n",
        "    [\"Aluminum\", 2700, 69, 237],\n",
        "    [\"Copper\", 8960, 110, 401],\n",
        "    [\"Titanium\", 4500, 116, 22],\n",
        "    [\"Brass\", 8530, 100, 109],\n",
        "]\n",
        "```\n",
        "\n",
        "- **Explanation:**\n",
        "  - Each row of the table is represented as a list.\n",
        "  - The entire table is a list of lists, where each inner list represents a row of data."
      ],
      "metadata": {
        "id": "jr2I9rOHjv-h"
      }
    },
    {
      "cell_type": "code",
      "source": [
        "# Nested list representing mechanical engineering materials data\n",
        "mechanical_data = [\n",
        "    [\"Material\", \"Density (kg/m³)\", \"Young's Modulus (GPa)\", \"Thermal Conductivity (W/m·K)\"],\n",
        "    [\"Steel\", 7850, 210, 50],\n",
        "    [\"Aluminum\", 2700, 69, 237],\n",
        "    [\"Copper\", 8960, 110, 401],\n",
        "    [\"Titanium\", 4500, 116, 22],\n",
        "    [\"Brass\", 8530, 100, 109],\n",
        "]\n",
        "\n",
        "# 1. Retrieve the Density of Aluminum\n",
        "density_aluminum = mechanical_data[2][1]\n",
        "print(f\"Density of Aluminum: {density_aluminum} kg/m³\")\n",
        "\n",
        "# 2. Retrieve the Thermal Conductivity of Copper\n",
        "thermal_conductivity_copper = mechanical_data[3][3]\n",
        "print(f\"Thermal Conductivity of Copper: {thermal_conductivity_copper} W/m·K\")\n",
        "\n",
        "# 3. Retrieve the Young's Modulus of Titanium\n",
        "youngs_modulus_titanium = mechanical_data[4][2]\n",
        "print(f\"Young's Modulus of Titanium: {youngs_modulus_titanium} GPa\")\n",
        "\n",
        "# 4. Retrieve the Material Name from the Third Row\n",
        "material_third_row = mechanical_data[3][0]\n",
        "print(f\"Material in the third row: {material_third_row}\")\n",
        "\n",
        "# 5. Retrieve the Entire Row for Brass\n",
        "brass_row = mechanical_data[5]\n",
        "print(f\"Brass Data: {brass_row}\")"
      ],
      "metadata": {
        "colab": {
          "base_uri": "https://localhost:8080/"
        },
        "id": "XfNYYR0djq2e",
        "outputId": "e77d6654-91a7-4be2-e840-4b93a81f41a7"
      },
      "execution_count": null,
      "outputs": [
        {
          "output_type": "stream",
          "name": "stdout",
          "text": [
            "Density of Aluminum: 2700 kg/m³\n",
            "Thermal Conductivity of Copper: 401 W/m·K\n",
            "Young's Modulus of Titanium: 116 GPa\n",
            "Material in the third row: Copper\n",
            "Brass Data: ['Brass', 8530, 100, 109]\n"
          ]
        }
      ]
    },
    {
      "cell_type": "code",
      "source": [
        "# Can you explain following?\n",
        "mechanical_data[2:5]"
      ],
      "metadata": {
        "colab": {
          "base_uri": "https://localhost:8080/"
        },
        "id": "zUfoE1oVmkqY",
        "outputId": "57c91089-fca3-4f9b-ea93-0f6c735d8ee6"
      },
      "execution_count": null,
      "outputs": [
        {
          "output_type": "execute_result",
          "data": {
            "text/plain": [
              "[['Aluminum', 2700, 69, 237],\n",
              " ['Copper', 8960, 110, 401],\n",
              " ['Titanium', 4500, 116, 22]]"
            ]
          },
          "metadata": {},
          "execution_count": 7
        }
      ]
    },
    {
      "cell_type": "markdown",
      "source": [
        "### **Summary**\n",
        "\n",
        "- **Density of Aluminum:** Extracted from row 2, column 1.\n",
        "- **Thermal Conductivity of Copper:** Extracted from row 3, column 3.\n",
        "- **Young's Modulus of Titanium:** Extracted from row 4, column 2.\n",
        "- **Material in the Third Row:** The material name from row 3.\n",
        "- **Brass Data:** The entire row representing Brass."
      ],
      "metadata": {
        "id": "RKV_HRjWkX10"
      }
    },
    {
      "cell_type": "code",
      "source": [],
      "metadata": {
        "id": "UGU-51k8kTwx"
      },
      "execution_count": null,
      "outputs": []
    },
    {
      "cell_type": "markdown",
      "source": [
        "# **Understanding Tuples**"
      ],
      "metadata": {
        "id": "LulE0NOJkxHV"
      }
    },
    {
      "cell_type": "code",
      "source": [
        "# Tuples in Python are immutable, ordered collections of elements\n",
        "# Similar to lists, but once created, they cannot be modified\n",
        "\n",
        "# Creating a tuple\n",
        "dimensions = (1920, 1080)  # Tuple representing screen dimensions\n",
        "\n",
        "# Accessing elements using indexing\n",
        "width = dimensions[0]\n",
        "height = dimensions[1]\n",
        "print(f\"Width: {width}, Height: {height}\")\n",
        "\n",
        "# Tuples can hold different data types\n",
        "mixed_tuple = (\"Mechanical Engineering\", 101, 9.81)\n",
        "\n",
        "# Accessing elements\n",
        "subject = mixed_tuple[0]\n",
        "course_number = mixed_tuple[1]\n",
        "gravity = mixed_tuple[2]\n",
        "print(f\"Subject: {subject}, Course Number: {course_number}, Gravity: {gravity} m/s²\")\n",
        "\n",
        "# Attempting to modify a tuple will raise an error (uncomment to see)\n",
        "# dimensions[0] = 1280  # TypeError: 'tuple' object does not support item assignment"
      ],
      "metadata": {
        "id": "4R5UGDJNk0FD"
      },
      "execution_count": null,
      "outputs": []
    },
    {
      "cell_type": "markdown",
      "source": [
        "# **Some Essentials before we move on**"
      ],
      "metadata": {
        "id": "ai2tCYZTk_X7"
      }
    },
    {
      "cell_type": "markdown",
      "source": [
        "## **`range()` Function Cheat Sheet**"
      ],
      "metadata": {
        "id": "mYRGcBwKmE_w"
      }
    },
    {
      "cell_type": "markdown",
      "source": [
        "### **1. What is `range()`?**\n",
        "\n",
        "- **Definition:**\n",
        "  - `range()` is a built-in Python function that generates a sequence of numbers. It returns an immutable sequence of numbers (not a list) and is commonly used in loops.\n",
        "\n",
        "---\n",
        "\n",
        "### **2. Creating Ranges with `range()`**\n",
        "\n",
        "- **Basic Range:**\n",
        "  - `range(stop)` generates numbers from `0` to `stop-1`.\n",
        "  ```python\n",
        "  numbers = range(5)\n",
        "  print(list(numbers))  # [0, 1, 2, 3, 4]\n",
        "  ```\n",
        "\n",
        "- **Range with Start and Stop:**\n",
        "  - `range(start, stop)` generates numbers from `start` to `stop-1`.\n",
        "  ```python\n",
        "  numbers = range(2, 6)\n",
        "  print(list(numbers))  # [2, 3, 4, 5]\n",
        "  ```\n",
        "\n",
        "- **Range with Step:**\n",
        "  - `range(start, stop, step)` generates numbers from `start` to `stop-1`, incrementing by `step`.\n",
        "  ```python\n",
        "  numbers = range(2, 10, 2)\n",
        "  print(list(numbers))  # [2, 4, 6, 8]\n",
        "  ```\n",
        "\n",
        "---\n",
        "\n",
        "### **3. Creating Specific Ranges**\n",
        "\n",
        "- **Even Numbers:**\n",
        "  ```python\n",
        "  even_numbers = range(2, 11, 2)\n",
        "  print(list(even_numbers))  # [2, 4, 6, 8, 10]\n",
        "  ```\n",
        "\n",
        "- **Odd Numbers:**\n",
        "  ```python\n",
        "  odd_numbers = range(1, 11, 2)\n",
        "  print(list(odd_numbers))  # [1, 3, 5, 7, 9]\n",
        "  ```\n",
        "\n",
        "- **Range of Numbers:**\n",
        "  ```python\n",
        "  range_of_numbers = range(5)\n",
        "  print(list(range_of_numbers))  # [0, 1, 2, 3, 4]\n",
        "  ```\n",
        "\n",
        "---\n",
        "\n",
        "### **4. Why Convert `range` to `list`?**\n",
        "\n",
        "- **Explanation:**\n",
        "  - `range()` itself does not create a list in memory but a `range` object, which is more memory-efficient.\n",
        "  - Converting to `list` shows the actual sequence of numbers, useful for debugging or when a list is explicitly needed.\n",
        "\n",
        "#### **Example:**\n",
        "```python\n",
        "numbers = range(5)\n",
        "print(numbers)  # Output: range(0, 5)\n",
        "print(list(numbers))  # Output: [0, 1, 2, 3, 4]\n",
        "```\n",
        "\n",
        "---\n",
        "\n",
        "### **5. What is `type()`?**\n",
        "\n",
        "- **Explanation:**\n",
        "  - `type()` is a built-in function that returns the type of an object, showing what kind of data structure it is.\n",
        "\n",
        "#### **Example:**\n",
        "```python\n",
        "numbers = range(5)\n",
        "print(type(numbers))  # Output: <class 'range'>\n",
        "print(type(list(numbers)))  # Output: <class 'list'>\n",
        "```"
      ],
      "metadata": {
        "id": "pNSJdLDFlZKw"
      }
    },
    {
      "cell_type": "markdown",
      "source": [
        "## **random.randint() Function Cheat Sheet**"
      ],
      "metadata": {
        "id": "nu0gXrjEl91U"
      }
    },
    {
      "cell_type": "markdown",
      "source": [
        "### **Python `random.randint()` Function Cheat Sheet**\n",
        "\n",
        "---\n",
        "\n",
        "### **1. What is `random.randint()`?**\n",
        "\n",
        "- **Definition:**\n",
        "  - `random.randint(a, b)` is a function from Python's `random` module that returns a random integer `N` such that `a <= N <= b`.\n",
        "\n",
        "---\n",
        "\n",
        "### **2. Importing the `random` Module**\n",
        "\n",
        "- **Before using `random.randint()`, you must import the `random` module:**\n",
        "  ```python\n",
        "  import random\n",
        "  ```\n",
        "\n",
        "---\n",
        "\n",
        "### **3. Generating Random Integers**\n",
        "\n",
        "- **Generate a Random Integer Between 1 and 10:**\n",
        "  ```python\n",
        "  random_number = random.randint(1, 10)\n",
        "  print(random_number)  # Example output: 7\n",
        "  ```\n",
        "\n",
        "- **Generate a Random Integer Between 50 and 100:**\n",
        "  ```python\n",
        "  random_number = random.randint(50, 100)\n",
        "  print(random_number)  # Example output: 85\n",
        "  ```\n",
        "\n",
        "---\n",
        "\n",
        "### **4. Generating Multiple Random Numbers**\n",
        "\n",
        "- **Generate 5 Random Numbers Between 1 and 6 (like rolling a die):**\n",
        "  ```python\n",
        "  random_numbers = [random.randint(1, 6) for _ in range(5)]\n",
        "  print(random_numbers)  # Example output: [3, 6, 1, 4, 2]\n",
        "  ```\n",
        "---\n",
        "\n",
        "### **5. Why Use `random.randint()`?**\n",
        "\n",
        "- **Explanation:**\n",
        "  - **Randomization:** Useful in simulations, games, random sampling, and any situation where random values are required.\n",
        "  - **Range Flexibility:** You can specify the range to fit the needs of your application.\n",
        "\n",
        "#### **Examples:**\n",
        "- **Simulate Rolling a Die:**\n",
        "  ```python\n",
        "  die_roll = random.randint(1, 6)\n",
        "  print(f\"Die roll: {die_roll}\")  # Example output: Die roll: 4\n",
        "  ```\n",
        "\n",
        "- **Randomly Select a Day of the Month:**\n",
        "  ```python\n",
        "  day_of_month = random.randint(1, 31)\n",
        "  print(f\"Random day of the month: {day_of_month}\")  # Example output: Random day of the month: 17\n",
        "  ```\n",
        "---"
      ],
      "metadata": {
        "id": "-HJIzTQklt5P"
      }
    },
    {
      "cell_type": "markdown",
      "source": [
        "# **Most Common List Functions in Python**"
      ],
      "metadata": {
        "id": "-kyyJtwAnkIM"
      }
    },
    {
      "cell_type": "markdown",
      "source": [
        "### **1. `append()`**\n",
        "\n",
        "- **Purpose:** Adds a single element to the end of a list.\n",
        "- **Syntax:** `list.append(element)`\n",
        "- **Example:**\n",
        "  ```python\n",
        "  numbers = [1, 2, 3]\n",
        "  numbers.append(4)\n",
        "  print(numbers)  # Output: [1, 2, 3, 4]\n",
        "  ```\n",
        "\n",
        "---\n",
        "\n",
        "### **2. `extend()`**\n",
        "\n",
        "- **Purpose:** Extends the list by appending all elements from another list (or any iterable).\n",
        "- **Syntax:** `list.extend(iterable)`\n",
        "- **Example:**\n",
        "  ```python\n",
        "  numbers = [1, 2, 3]\n",
        "  numbers.extend([4, 5])\n",
        "  print(numbers)  # Output: [1, 2, 3, 4, 5]\n",
        "  ```\n",
        "\n",
        "---\n",
        "\n",
        "### **3. `insert()`**\n",
        "\n",
        "- **Purpose:** Inserts an element at a specified position.\n",
        "- **Syntax:** `list.insert(index, element)`\n",
        "- **Example:**\n",
        "  ```python\n",
        "  numbers = [1, 2, 3]\n",
        "  numbers.insert(1, 10)\n",
        "  print(numbers)  # Output: [1, 10, 2, 3]\n",
        "  ```\n",
        "\n",
        "---\n",
        "\n",
        "### **4. `remove()`**\n",
        "\n",
        "- **Purpose:** Removes the first occurrence of an element from the list.\n",
        "- **Syntax:** `list.remove(element)`\n",
        "- **Example:**\n",
        "  ```python\n",
        "  numbers = [1, 2, 3, 2]\n",
        "  numbers.remove(2)\n",
        "  print(numbers)  # Output: [1, 3, 2]\n",
        "  ```\n",
        "\n",
        "---\n",
        "\n",
        "### **5. `pop()`**\n",
        "\n",
        "- **Purpose:** Removes and returns the element at a specified index (or the last element if no index is specified).\n",
        "- **Syntax:** `list.pop([index])`\n",
        "- **Example:**\n",
        "  ```python\n",
        "  numbers = [1, 2, 3]\n",
        "  last_number = numbers.pop()\n",
        "  print(numbers)  # Output: [1, 2]\n",
        "  print(last_number)  # Output: 3\n",
        "  ```\n",
        "\n",
        "---\n",
        "\n",
        "### **6. `index()`**\n",
        "\n",
        "- **Purpose:** Returns the index of the first occurrence of an element.\n",
        "- **Syntax:** `list.index(element)`\n",
        "- **Example:**\n",
        "  ```python\n",
        "  numbers = [1, 2, 3, 2]\n",
        "  index_of_two = numbers.index(2)\n",
        "  print(index_of_two)  # Output: 1\n",
        "  ```\n",
        "\n",
        "---\n",
        "\n",
        "### **7. `count()`**\n",
        "\n",
        "- **Purpose:** Returns the number of times an element appears in the list.\n",
        "- **Syntax:** `list.count(element)`\n",
        "- **Example:**\n",
        "  ```python\n",
        "  numbers = [1, 2, 3, 2, 2]\n",
        "  count_of_twos = numbers.count(2)\n",
        "  print(count_of_twos)  # Output: 3\n",
        "  ```\n",
        "\n",
        "---\n",
        "\n",
        "### **8. `sort()`**\n",
        "\n",
        "- **Purpose:** Sorts the elements of the list in place (ascending by default).\n",
        "- **Syntax:** `list.sort([key=None], [reverse=False])`\n",
        "- **Example:**\n",
        "  ```python\n",
        "  numbers = [3, 1, 2]\n",
        "  numbers.sort()\n",
        "  print(numbers)  # Output: [1, 2, 3]\n",
        "  ```\n",
        "\n",
        "---\n",
        "\n",
        "### **9. `reverse()`**\n",
        "\n",
        "- **Purpose:** Reverses the elements of the list in place.\n",
        "- **Syntax:** `list.reverse()`\n",
        "- **Example:**\n",
        "  ```python\n",
        "  numbers = [1, 2, 3]\n",
        "  numbers.reverse()\n",
        "  print(numbers)  # Output: [3, 2, 1]\n",
        "  ```\n",
        "\n",
        "---\n",
        "\n",
        "### **10. `copy()`**\n",
        "\n",
        "- **Purpose:** Returns a shallow copy of the list.\n",
        "- **Syntax:** `list.copy()`\n",
        "- **Example:**\n",
        "  ```python\n",
        "  numbers = [1, 2, 3]\n",
        "  numbers_copy = numbers.copy()\n",
        "  print(numbers_copy)  # Output: [1, 2, 3]\n",
        "  ```"
      ],
      "metadata": {
        "id": "-fJBQeAbnqnt"
      }
    },
    {
      "cell_type": "markdown",
      "source": [
        "### **Note: Append Vs Extend:**\n",
        "\n",
        "- **`append()`:** Adds its argument as a single element to the list. If the argument is a list, the entire list is added as one element (resulting in a nested list).\n",
        "  - **Example:** `numbers.append([4, 5, 6])` → `[1, 2, 3, [4, 5, 6]]`\n",
        "  \n",
        "- **`extend()`:** Iterates over its argument and adds each element to the list. If the argument is a list, each element of that list is added separately.\n",
        "  - **Example:** `numbers.extend([4, 5, 6])` → `[1, 2, 3, 4, 5, 6]`"
      ],
      "metadata": {
        "id": "5-e7i3HSoDwy"
      }
    },
    {
      "cell_type": "markdown",
      "source": [
        "### **Note: Different ways of doing append**"
      ],
      "metadata": {
        "id": "cUPY-XYLon72"
      }
    },
    {
      "cell_type": "code",
      "source": [
        "# Different ways to append items to a list in Python\n",
        "\n",
        "# 1. Using the .append() method\n",
        "numbers = [1, 2, 3]\n",
        "numbers.append(4)\n",
        "print(numbers)  # Output: [1, 2, 3, 4]\n",
        "\n",
        "# 2. Using the + operator\n",
        "numbers = [1, 2, 3]\n",
        "numbers = numbers + [4]  # Concatenating lists\n",
        "print(numbers)  # Output: [1, 2, 3, 4]\n",
        "\n",
        "# 3. Using the += operator\n",
        "numbers = [1, 2, 3]\n",
        "numbers += [4]  # Extending the list in place\n",
        "print(numbers)  # Output: [1, 2, 3, 4]\n",
        "\n",
        "# 4. Using the insert() method at the end\n",
        "numbers = [1, 2, 3]\n",
        "numbers.insert(len(numbers), 4)  # Inserting at the last position\n",
        "print(numbers)  # Output: [1, 2, 3, 4]"
      ],
      "metadata": {
        "colab": {
          "base_uri": "https://localhost:8080/"
        },
        "id": "WZ3Rs_7zmSp5",
        "outputId": "5d6ec53d-be07-412c-c240-7e965ecf528f"
      },
      "execution_count": null,
      "outputs": [
        {
          "output_type": "stream",
          "name": "stdout",
          "text": [
            "[1, 2, 3, 4]\n",
            "[1, 2, 3, 4]\n",
            "[1, 2, 3, 4]\n",
            "[1, 2, 3, 4]\n"
          ]
        }
      ]
    },
    {
      "cell_type": "markdown",
      "source": [
        "### **Note: Different ways of doing extend**"
      ],
      "metadata": {
        "id": "zMoRiIQwo2rS"
      }
    },
    {
      "cell_type": "code",
      "source": [
        "# Different ways to extend a list in Python\n",
        "\n",
        "# 1. Using the .extend() method\n",
        "numbers = [1, 2, 3]\n",
        "numbers.extend([4, 5])\n",
        "print(numbers)  # Output: [1, 2, 3, 4, 5]\n",
        "\n",
        "# 2. Using the += operator (In-place extension)\n",
        "numbers = [1, 2, 3]\n",
        "numbers += [4, 5]  # Equivalent to extend\n",
        "print(numbers)  # Output: [1, 2, 3, 4, 5]\n",
        "\n",
        "# 3. Using the + operator (Concatenation)\n",
        "numbers = [1, 2, 3]\n",
        "numbers = numbers + [4, 5]  # Creates a new list\n",
        "print(numbers)  # Output: [1, 2, 3, 4, 5]\n",
        "\n",
        "\n",
        "# 3. Using the * operator\n",
        "numbers = [1, 2, 3]\n",
        "new_numbers = [4, 5]\n",
        "numbers = [*numbers, *new_numbers]  # Creates a new list\n",
        "print(numbers)  # Output: [1, 2, 3\n",
        "print(numbers)  # Output: [1, 2, 3, 4, 5]\n"
      ],
      "metadata": {
        "colab": {
          "base_uri": "https://localhost:8080/"
        },
        "id": "aichKaRSo1e_",
        "outputId": "200b896f-efbc-4b49-b08a-ce9135227371"
      },
      "execution_count": null,
      "outputs": [
        {
          "output_type": "stream",
          "name": "stdout",
          "text": [
            "[1, 2, 3, 4, 5]\n",
            "[1, 2, 3, 4, 5]\n",
            "[1, 2, 3, 4, 5]\n",
            "[1, 2, 3, 4, 5]\n",
            "[1, 2, 3, 4, 5]\n"
          ]
        }
      ]
    },
    {
      "cell_type": "code",
      "source": [],
      "metadata": {
        "id": "6ScH6XBMpY0m"
      },
      "execution_count": null,
      "outputs": []
    },
    {
      "cell_type": "markdown",
      "source": [
        "## **Warning: Avoiding Common Pitfalls with List Operations in Python**"
      ],
      "metadata": {
        "id": "WftyMD95pzpR"
      }
    },
    {
      "cell_type": "markdown",
      "source": [
        "### **1. The Pitfall: Misusing `append()` and `extend()`**\n",
        "\n",
        "- **Common Mistake:**\n",
        "  - **Assigning the result of `append()` or `extend()` to the list variable:** Students often mistakenly write `numbers = numbers.append(3)` or `numbers = numbers.extend([4, 5])`.\n",
        "\n",
        "- **Why It's a Problem:**\n",
        "  - **`append()` and `extend()` modify the list in place** and return `None`. Assigning the result to the variable will overwrite the list with `None`, leading to errors.\n",
        "\n",
        "#### **Incorrect Example:**\n",
        "```python\n",
        "numbers = [1, 2, 3]\n",
        "numbers = numbers.append(4)\n",
        "print(numbers)  # Output: None (This is incorrect)\n",
        "```\n",
        "\n",
        "- **Explanation:**\n",
        "  - `append(4)` modifies `numbers` in place and returns `None`. When you assign this `None` to `numbers`, the original list is lost.\n",
        "\n",
        "---\n",
        "\n",
        "### **2. Correct Usage:**\n",
        "\n",
        "- **Modify the List In Place Without Assignment:**\n",
        "  - Simply use `append()` or `extend()` to modify the list without assigning it back to the list variable.\n",
        "\n",
        "#### **Correct Example with `append()`:**\n",
        "```python\n",
        "numbers = [1, 2, 3]\n",
        "numbers.append(4)\n",
        "print(numbers)  # Output: [1, 2, 3, 4] (This is correct)\n",
        "```\n",
        "\n",
        "#### **Correct Example with `extend()`:**\n",
        "```python\n",
        "numbers = [1, 2, 3]\n",
        "numbers.extend([4, 5])\n",
        "print(numbers)  # Output: [1, 2, 3, 4, 5] (This is correct)\n",
        "```\n",
        "\n",
        "- **Explanation:**\n",
        "  - `append()` and `extend()` modify the original list directly. There’s no need to reassign the list to itself after these operations.\n",
        "\n",
        "---\n",
        "\n",
        "- **Remember:**\n",
        "  - **Do not assign** `numbers = numbers.append(4)` or `numbers = numbers.extend([4, 5])`.\n",
        "  - **Correct Usage:** Just call `numbers.append(4)` or `numbers.extend([4, 5])` without assignment.\n",
        "\n",
        "---"
      ],
      "metadata": {
        "id": "zuaZL2yVpt-p"
      }
    },
    {
      "cell_type": "markdown",
      "source": [
        "# **Simple List Comprehensions**"
      ],
      "metadata": {
        "id": "UG8symPmr3rU"
      }
    },
    {
      "cell_type": "markdown",
      "source": [
        "### **Understanding List Comprehensions in Python**\n",
        "\n",
        "---\n",
        "\n",
        "### **1. What is a List Comprehension?**\n",
        "\n",
        "- **Definition:**\n",
        "  - A list comprehension is a concise way to create lists in Python. It allows you to generate a new list by applying an expression to each item in an iterable (like a list or range), optionally filtering elements.\n",
        "\n",
        "- **Syntax:**\n",
        "  ```python\n",
        "  [expression for item in iterable if condition]\n",
        "  ```\n",
        "\n",
        "- **Explanation:**\n",
        "  - **Expression:** The value or calculation that will be added to the list.\n",
        "  - **Item:** The current element from the iterable.\n",
        "  - **Iterable:** The collection of elements to loop over.\n",
        "  - **Condition (Optional):** A filter that determines whether the item should be included in the new list.\n",
        "\n",
        "---\n",
        "\n",
        "### **2. Basic List Comprehension**\n",
        "\n",
        "- **Purpose:** Create a new list by transforming each element of an existing list.\n",
        "\n",
        "#### **Example:**\n",
        "```python\n",
        "numbers = [1, 2, 3, 4]\n",
        "squares = [n**2 for n in numbers]\n",
        "print(squares)  # Output: [1, 4, 9, 16]\n",
        "```\n",
        "\n",
        "- **Explanation:**\n",
        "  - The comprehension `n**2 for n in numbers` squares each number in the `numbers` list.\n",
        "\n",
        "---\n",
        "\n",
        "### **3. List Comprehension with a Condition**\n",
        "\n",
        "- **Purpose:** Create a new list that includes only elements that meet a specific condition.\n",
        "\n",
        "#### **Example:**\n",
        "```python\n",
        "numbers = [1, 2, 3, 4, 5, 6]\n",
        "evens = [n for n in numbers if n % 2 == 0]\n",
        "print(evens)  # Output: [2, 4, 6]\n",
        "```\n",
        "\n",
        "- **Explanation:**\n",
        "  - The comprehension `n for n in numbers if n % 2 == 0` filters the `numbers` list to include only even numbers.\n",
        "\n",
        "---\n",
        "\n",
        "### **4. Nested List Comprehensions**\n",
        "\n",
        "- **Purpose:** Create lists with more complex structures, such as 2D lists (lists of lists).\n",
        "\n",
        "#### **Example:**\n",
        "```python\n",
        "matrix = [[row * col for col in range(1, 4)] for row in range(1, 4)]\n",
        "print(matrix)  # Output: [[1, 2, 3], [2, 4, 6], [3, 6, 9]]\n",
        "```\n",
        "\n",
        "- **Explanation:**\n",
        "  - This comprehension generates a 3x3 multiplication table by iterating over rows and columns.\n",
        "\n",
        "---\n",
        "\n",
        "### **5. List Comprehension vs. Traditional Loop**\n",
        "\n",
        "- **Traditional Loop:**\n",
        "  ```python\n",
        "  squares = []\n",
        "  for n in numbers:\n",
        "      squares.append(n**2)\n",
        "  ```\n",
        "\n",
        "- **List Comprehension:**\n",
        "  ```python\n",
        "  squares = [n**2 for n in numbers]\n",
        "  ```\n",
        "\n",
        "- **Explanation:**\n",
        "  - List comprehensions are more concise and often more readable than traditional loops.\n",
        "\n",
        "---"
      ],
      "metadata": {
        "id": "8ut3OK4sr_5a"
      }
    },
    {
      "cell_type": "markdown",
      "source": [
        "# EXERCISE !! Tough, Stay with me :)"
      ],
      "metadata": {
        "id": "baQnCn3cuFzt"
      }
    },
    {
      "cell_type": "markdown",
      "source": [
        "Sure! Let's simplify the project further by removing conditional statements like `if-else`. We'll still extract the data, calculate the necessary values, and generate the report using basic Python concepts.\n",
        "\n",
        "### **Project: Analyzing and Reporting Movie Data Without Conditionals**\n",
        "\n",
        "### **Step 1: Define the Movie Data String**\n",
        "We'll start by defining a string that contains details about a few movies.\n",
        "\n"
      ],
      "metadata": {
        "id": "deew8Wosvp1b"
      }
    },
    {
      "cell_type": "code",
      "source": [
        "movies_text = \"\"\"\n",
        "Title: Inception, Year: 2010, Director: Christopher Nolan, Rating: 8.8\n",
        "Title: The Matrix, Year: 1999, Director: The Wachowskis, Rating: 8.7\n",
        "Title: Interstellar, Year: 2014, Director: Christopher Nolan, Rating: 8.6\n",
        "Title: The Dark Knight, Year: 2008, Director: Christopher Nolan, Rating: 9.0\n",
        "Title: Fight Club, Year: 1999, Director: David Fincher, Rating: 8.8\n",
        "\"\"\""
      ],
      "metadata": {
        "id": "G8vz3d-EvvpZ"
      },
      "execution_count": null,
      "outputs": []
    },
    {
      "cell_type": "markdown",
      "source": [
        "\n",
        "### **Step 2: Extract and Organize Data Using Regular Expressions**\n",
        "We'll use regular expressions to extract data from the string and organize it into lists.\n"
      ],
      "metadata": {
        "id": "UpFMA8Bsvudh"
      }
    },
    {
      "cell_type": "code",
      "source": [
        "import re\n",
        "\n",
        "# Regular expressions to extract movie details\n",
        "title_pattern = r\"Title: ([\\w\\s]+)\"\n",
        "year_pattern = r\"Year: (\\d{4})\"\n",
        "director_pattern = r\"Director: ([\\w\\s]+)\"\n",
        "rating_pattern = r\"Rating: ([\\d.]+)\"\n",
        "\n",
        "# Extracting data using regular expressions\n",
        "movie_titles = re.findall(title_pattern, movies_text)\n",
        "movie_years = re.findall(year_pattern, movies_text)\n",
        "movie_directors = re.findall(director_pattern, movies_text)\n",
        "movie_ratings = [float(rating) for rating in re.findall(rating_pattern, movies_text)]\n",
        "\n",
        "print(f\"Movie Titles: {movie_titles}\")\n",
        "print(f\"Movie Years: {movie_years}\")\n",
        "print(f\"Movie Directors: {movie_directors}\")\n",
        "print(f\"Movie Ratings: {movie_ratings}\")"
      ],
      "metadata": {
        "colab": {
          "base_uri": "https://localhost:8080/",
          "height": 217
        },
        "id": "42-KTCT7vzj3",
        "outputId": "5eef47b7-2e18-4b84-e5e8-1bc2078940b6"
      },
      "execution_count": null,
      "outputs": [
        {
          "output_type": "error",
          "ename": "NameError",
          "evalue": "name 'movies_text' is not defined",
          "traceback": [
            "\u001b[0;31m---------------------------------------------------------------------------\u001b[0m",
            "\u001b[0;31mNameError\u001b[0m                                 Traceback (most recent call last)",
            "\u001b[0;32m<ipython-input-3-23315a951433>\u001b[0m in \u001b[0;36m<cell line: 10>\u001b[0;34m()\u001b[0m\n\u001b[1;32m      8\u001b[0m \u001b[0;34m\u001b[0m\u001b[0m\n\u001b[1;32m      9\u001b[0m \u001b[0;31m# Extracting data using regular expressions\u001b[0m\u001b[0;34m\u001b[0m\u001b[0;34m\u001b[0m\u001b[0m\n\u001b[0;32m---> 10\u001b[0;31m \u001b[0mmovie_titles\u001b[0m \u001b[0;34m=\u001b[0m \u001b[0mre\u001b[0m\u001b[0;34m.\u001b[0m\u001b[0mfindall\u001b[0m\u001b[0;34m(\u001b[0m\u001b[0mtitle_pattern\u001b[0m\u001b[0;34m,\u001b[0m \u001b[0mmovies_text\u001b[0m\u001b[0;34m)\u001b[0m\u001b[0;34m\u001b[0m\u001b[0;34m\u001b[0m\u001b[0m\n\u001b[0m\u001b[1;32m     11\u001b[0m \u001b[0mmovie_years\u001b[0m \u001b[0;34m=\u001b[0m \u001b[0mre\u001b[0m\u001b[0;34m.\u001b[0m\u001b[0mfindall\u001b[0m\u001b[0;34m(\u001b[0m\u001b[0myear_pattern\u001b[0m\u001b[0;34m,\u001b[0m \u001b[0mmovies_text\u001b[0m\u001b[0;34m)\u001b[0m\u001b[0;34m\u001b[0m\u001b[0;34m\u001b[0m\u001b[0m\n\u001b[1;32m     12\u001b[0m \u001b[0mmovie_directors\u001b[0m \u001b[0;34m=\u001b[0m \u001b[0mre\u001b[0m\u001b[0;34m.\u001b[0m\u001b[0mfindall\u001b[0m\u001b[0;34m(\u001b[0m\u001b[0mdirector_pattern\u001b[0m\u001b[0;34m,\u001b[0m \u001b[0mmovies_text\u001b[0m\u001b[0;34m)\u001b[0m\u001b[0;34m\u001b[0m\u001b[0;34m\u001b[0m\u001b[0m\n",
            "\u001b[0;31mNameError\u001b[0m: name 'movies_text' is not defined"
          ]
        }
      ]
    },
    {
      "cell_type": "markdown",
      "source": [
        "\n",
        "\n",
        "### **Step 3: Analyze Data Without Conditionals**\n",
        "\n",
        "We can access the highest-rated movie and calculate the average rating without using `if-else` statements by leveraging list functions.\n"
      ],
      "metadata": {
        "id": "xC8rmqRLvykN"
      }
    },
    {
      "cell_type": "code",
      "source": [
        "# Finding the highest-rated movie and its title\n",
        "highest_rating = max(movie_ratings)\n",
        "highest_index = movie_ratings.index(highest_rating)\n",
        "highest_rated_movie = movie_titles[highest_index]\n",
        "\n",
        "print(f\"{highest_rating=}\")\n",
        "print(f\"{highest_rated_movie=}\")\n",
        "\n",
        "# Calculating the average rating\n",
        "average_rating = sum(movie_ratings) / len(movie_ratings)"
      ],
      "metadata": {
        "colab": {
          "base_uri": "https://localhost:8080/",
          "height": 217
        },
        "id": "HQljVJSwv6yu",
        "outputId": "b9ff5f0a-0146-4255-e49f-56a274076a7e"
      },
      "execution_count": null,
      "outputs": [
        {
          "output_type": "error",
          "ename": "NameError",
          "evalue": "name 'movie_ratings' is not defined",
          "traceback": [
            "\u001b[0;31m---------------------------------------------------------------------------\u001b[0m",
            "\u001b[0;31mNameError\u001b[0m                                 Traceback (most recent call last)",
            "\u001b[0;32m<ipython-input-2-0dfae4fadebe>\u001b[0m in \u001b[0;36m<cell line: 2>\u001b[0;34m()\u001b[0m\n\u001b[1;32m      1\u001b[0m \u001b[0;31m# Finding the highest-rated movie and its title\u001b[0m\u001b[0;34m\u001b[0m\u001b[0;34m\u001b[0m\u001b[0m\n\u001b[0;32m----> 2\u001b[0;31m \u001b[0mhighest_rating\u001b[0m \u001b[0;34m=\u001b[0m \u001b[0mmax\u001b[0m\u001b[0;34m(\u001b[0m\u001b[0mmovie_ratings\u001b[0m\u001b[0;34m)\u001b[0m\u001b[0;34m\u001b[0m\u001b[0;34m\u001b[0m\u001b[0m\n\u001b[0m\u001b[1;32m      3\u001b[0m \u001b[0mhighest_index\u001b[0m \u001b[0;34m=\u001b[0m \u001b[0mmovie_ratings\u001b[0m\u001b[0;34m.\u001b[0m\u001b[0mindex\u001b[0m\u001b[0;34m(\u001b[0m\u001b[0mhighest_rating\u001b[0m\u001b[0;34m)\u001b[0m\u001b[0;34m\u001b[0m\u001b[0;34m\u001b[0m\u001b[0m\n\u001b[1;32m      4\u001b[0m \u001b[0mhighest_rated_movie\u001b[0m \u001b[0;34m=\u001b[0m \u001b[0mmovie_titles\u001b[0m\u001b[0;34m[\u001b[0m\u001b[0mhighest_index\u001b[0m\u001b[0;34m]\u001b[0m\u001b[0;34m\u001b[0m\u001b[0;34m\u001b[0m\u001b[0m\n\u001b[1;32m      5\u001b[0m \u001b[0;34m\u001b[0m\u001b[0m\n",
            "\u001b[0;31mNameError\u001b[0m: name 'movie_ratings' is not defined"
          ]
        }
      ]
    },
    {
      "cell_type": "markdown",
      "source": [
        "\n",
        "### **Step 4: Generate the Report**\n",
        "We can now generate a simple report using f-strings, manually formatting each movie's details.\n"
      ],
      "metadata": {
        "id": "mbnMWlZjv5dl"
      }
    },
    {
      "cell_type": "code",
      "source": [
        "# Header for the report\n",
        "header = f\"{'Title':<25}{'Year':<10}{'Director':<25}{'Rating':<10}\"\n",
        "print(header)\n",
        "print(\"=\"*70)\n",
        "\n",
        "# Printing each movie's details without using loops\n",
        "print(f\"{movie_titles[0]:<25}{movie_years[0]:<10}{movie_directors[0]:<25}{movie_ratings[0]:<10.1f}\")\n",
        "print(f\"{movie_titles[1]:<25}{movie_years[1]:<10}{movie_directors[1]:<25}{movie_ratings[1]:<10.1f}\")\n",
        "print(f\"{movie_titles[2]:<25}{movie_years[2]:<10}{movie_directors[2]:<25}{movie_ratings[2]:<10.1f}\")\n",
        "print(f\"{movie_titles[3]:<25}{movie_years[3]:<10}{movie_directors[3]:<25}{movie_ratings[3]:<10.1f}\")\n",
        "print(f\"{movie_titles[4]:<25}{movie_years[4]:<10}{movie_directors[4]:<25}{movie_ratings[4]:<10.1f}\")\n",
        "\n",
        "# Printing the analysis results\n",
        "print(\"=\"*70)\n",
        "print(f\"Highest Rated Movie: {highest_rated_movie} with a rating of {highest_rating:.1f}\")\n",
        "print(f\"Average Rating of Movies: {average_rating:.1f}\")"
      ],
      "metadata": {
        "colab": {
          "base_uri": "https://localhost:8080/",
          "height": 253
        },
        "id": "q9nnUhi3v_h5",
        "outputId": "1213ee0d-3948-4204-d39a-39146bc684a2"
      },
      "execution_count": null,
      "outputs": [
        {
          "output_type": "stream",
          "name": "stdout",
          "text": [
            "Title                    Year      Director                 Rating    \n",
            "======================================================================\n"
          ]
        },
        {
          "output_type": "error",
          "ename": "NameError",
          "evalue": "name 'movie_titles' is not defined",
          "traceback": [
            "\u001b[0;31m---------------------------------------------------------------------------\u001b[0m",
            "\u001b[0;31mNameError\u001b[0m                                 Traceback (most recent call last)",
            "\u001b[0;32m<ipython-input-1-2c7d8255dec7>\u001b[0m in \u001b[0;36m<cell line: 7>\u001b[0;34m()\u001b[0m\n\u001b[1;32m      5\u001b[0m \u001b[0;34m\u001b[0m\u001b[0m\n\u001b[1;32m      6\u001b[0m \u001b[0;31m# Printing each movie's details without using loops\u001b[0m\u001b[0;34m\u001b[0m\u001b[0;34m\u001b[0m\u001b[0m\n\u001b[0;32m----> 7\u001b[0;31m \u001b[0mprint\u001b[0m\u001b[0;34m(\u001b[0m\u001b[0;34mf\"{movie_titles[0]:<25}{movie_years[0]:<10}{movie_directors[0]:<25}{movie_ratings[0]:<10.1f}\"\u001b[0m\u001b[0;34m)\u001b[0m\u001b[0;34m\u001b[0m\u001b[0;34m\u001b[0m\u001b[0m\n\u001b[0m\u001b[1;32m      8\u001b[0m \u001b[0mprint\u001b[0m\u001b[0;34m(\u001b[0m\u001b[0;34mf\"{movie_titles[1]:<25}{movie_years[1]:<10}{movie_directors[1]:<25}{movie_ratings[1]:<10.1f}\"\u001b[0m\u001b[0;34m)\u001b[0m\u001b[0;34m\u001b[0m\u001b[0;34m\u001b[0m\u001b[0m\n\u001b[1;32m      9\u001b[0m \u001b[0mprint\u001b[0m\u001b[0;34m(\u001b[0m\u001b[0;34mf\"{movie_titles[2]:<25}{movie_years[2]:<10}{movie_directors[2]:<25}{movie_ratings[2]:<10.1f}\"\u001b[0m\u001b[0;34m)\u001b[0m\u001b[0;34m\u001b[0m\u001b[0;34m\u001b[0m\u001b[0m\n",
            "\u001b[0;31mNameError\u001b[0m: name 'movie_titles' is not defined"
          ]
        }
      ]
    },
    {
      "cell_type": "markdown",
      "source": [
        "\n",
        "### **Step 5: Explanation of the Code**\n",
        "\n",
        "- **Regular Expressions:** We used regular expressions to extract titles, years, directors, and ratings from the text.\n",
        "- **List Functions:** We used `max()` to find the highest rating and `index()` to locate the corresponding movie title without conditionals.\n",
        "- **Manual Data Access:** We accessed and printed each movie's details manually without loops.\n",
        "- **Formatted Report:** The report is generated using f-strings to ensure a structured and clear output."
      ],
      "metadata": {
        "id": "UuC1InO3v-ii"
      }
    },
    {
      "cell_type": "code",
      "source": [],
      "metadata": {
        "id": "6W7-w7smuJzH"
      },
      "execution_count": null,
      "outputs": []
    }
  ]
}