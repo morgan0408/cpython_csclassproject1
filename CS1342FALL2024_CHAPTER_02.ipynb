{
  "nbformat": 4,
  "nbformat_minor": 0,
  "metadata": {
    "colab": {
      "provenance": [],
      "collapsed_sections": [
        "Bmu_RZeOcXHK",
        "UUWwigK_SVDt",
        "rSf8jByKlqED",
        "Hr4qiS0IXGWX",
        "7iUccqXicxev",
        "LK31m5TlZxYb",
        "g84wM0cNeAOC",
        "zkcS6-4wenaq"
      ],
      "include_colab_link": true
    },
    "kernelspec": {
      "name": "python3",
      "display_name": "Python 3"
    },
    "language_info": {
      "name": "python"
    }
  },
  "cells": [
    {
      "cell_type": "markdown",
      "metadata": {
        "id": "view-in-github",
        "colab_type": "text"
      },
      "source": [
        "<a href=\"https://colab.research.google.com/github/morgan0408/cpython_csclassproject1/blob/main/CS1342FALL2024_CHAPTER_02.ipynb\" target=\"_parent\"><img src=\"https://colab.research.google.com/assets/colab-badge.svg\" alt=\"Open In Colab\"/></a>"
      ]
    },
    {
      "cell_type": "markdown",
      "source": [
        "# Slides"
      ],
      "metadata": {
        "id": "Bmu_RZeOcXHK"
      }
    },
    {
      "cell_type": "code",
      "source": [
        "# Ignore following Code!!\n",
        "from IPython.display import HTML\n",
        "HTML('''<iframe src=\"https://docs.google.com/presentation/d/1MwyONQGmBoWVj6Sbf2U2XAr2g0iIJfZEYmJ4Lb-3ehc/embed?start=false&loop=false&delayms=3000\" frameborder=\"0\" width=\"960\" height=\"569\" allowfullscreen=\"true\" mozallowfullscreen=\"true\" webkitallowfullscreen=\"true\"></iframe>''')"
      ],
      "metadata": {
        "colab": {
          "base_uri": "https://localhost:8080/",
          "height": 646
        },
        "id": "0LYTx1GdcU4m",
        "outputId": "c29bcb1e-8e81-4ab1-9eda-e1a5fcb62dec"
      },
      "execution_count": null,
      "outputs": [
        {
          "output_type": "stream",
          "name": "stderr",
          "text": [
            "/usr/local/lib/python3.10/dist-packages/IPython/core/display.py:724: UserWarning: Consider using IPython.display.IFrame instead\n",
            "  warnings.warn(\"Consider using IPython.display.IFrame instead\")\n"
          ]
        },
        {
          "output_type": "execute_result",
          "data": {
            "text/plain": [
              "<IPython.core.display.HTML object>"
            ],
            "text/html": [
              "<iframe src=\"https://docs.google.com/presentation/d/1MwyONQGmBoWVj6Sbf2U2XAr2g0iIJfZEYmJ4Lb-3ehc/embed?start=false&loop=false&delayms=3000\" frameborder=\"0\" width=\"960\" height=\"569\" allowfullscreen=\"true\" mozallowfullscreen=\"true\" webkitallowfullscreen=\"true\"></iframe>"
            ]
          },
          "metadata": {},
          "execution_count": 1
        }
      ]
    },
    {
      "cell_type": "markdown",
      "source": [
        "# **Comprehensive List of Python String Functions**"
      ],
      "metadata": {
        "id": "UUWwigK_SVDt"
      }
    },
    {
      "cell_type": "markdown",
      "source": [
        "| **Function**        | **Usage**                               | **Description**                                                                                 | **Example**                                |\n",
        "|---------------------|-----------------------------------------|-------------------------------------------------------------------------------------------------|--------------------------------------------|\n",
        "| `str.lower()`       | `str.lower()`                           | Converts all characters in the string to lowercase.                                             | `\"Hello\".lower()` → `'hello'`              |\n",
        "| `str.upper()`       | `str.upper()`                           | Converts all characters in the string to uppercase.                                             | `\"Hello\".upper()` → `'HELLO'`              |\n",
        "| `str.capitalize()`  | `str.capitalize()`                      | Capitalizes the first character of the string.                                                  | `\"hello world\".capitalize()` → `'Hello world'` |\n",
        "| `str.title()`       | `str.title()`                           | Capitalizes the first character of each word in the string.                                     | `\"hello world\".title()` → `'Hello World'`  |\n",
        "| `str.swapcase()`    | `str.swapcase()`                        | Swaps the case of all characters in the string.                                                 | `\"Hello World\".swapcase()` → `'hELLO wORLD'` |\n",
        "| `str.strip()`       | `str.strip([chars])`                    | Removes leading and trailing whitespace (or specified characters).                              | `\"  hello  \".strip()` → `'hello'`          |\n",
        "| `str.lstrip()`      | `str.lstrip([chars])`                   | Removes leading whitespace (or specified characters).                                           | `\"  hello  \".lstrip()` → `'hello  '`       |\n",
        "| `str.rstrip()`      | `str.rstrip([chars])`                   | Removes trailing whitespace (or specified characters).                                          | `\"  hello  \".rstrip()` → `'  hello'`       |\n",
        "| `str.replace()`     | `str.replace(old, new[, count])`        | Replaces occurrences of a substring within the string with another substring.                   | `\"hello world\".replace(\"world\", \"Python\")` → `'hello Python'` |\n",
        "| `str.split()`       | `str.split([sep[, maxsplit]])`          | Splits the string into a list of substrings based on a delimiter.                               | `\"a,b,c\".split(\",\")` → `['a', 'b', 'c']`   |\n",
        "| `str.join()`        | `str.join(iterable)`                    | Joins elements of an iterable into a single string, with the string as a delimiter.             | `\",\".join(['a', 'b', 'c'])` → `'a,b,c'`    |\n",
        "| `str.find()`        | `str.find(sub[, start[, end]])`         | Returns the lowest index in the string where substring `sub` is found, or `-1` if not found.    | `\"hello\".find(\"e\")` → `1`                  |\n",
        "| `str.index()`       | `str.index(sub[, start[, end]])`        | Similar to `find()`, but raises a `ValueError` if the substring is not found.                   | `\"hello\".index(\"e\")` → `1`                 |\n",
        "| `str.count()`       | `str.count(sub[, start[, end]])`        | Returns the number of non-overlapping occurrences of a substring in the string.                 | `\"hello hello\".count(\"hello\")` → `2`       |\n",
        "| `str.startswith()`  | `str.startswith(prefix[, start[, end]])`| Returns `True` if the string starts with the specified prefix, otherwise `False`.               | `\"hello\".startswith(\"he\")` → `True`        |\n",
        "| `str.endswith()`    | `str.endswith(suffix[, start[, end]])`  | Returns `True` if the string ends with the specified suffix, otherwise `False`.                 | `\"hello\".endswith(\"lo\")` → `True`          |\n",
        "| `str.isalpha()`     | `str.isalpha()`                         | Returns `True` if all characters in the string are alphabetic, otherwise `False`.               | `\"hello\".isalpha()` → `True`               |\n",
        "| `str.isdigit()`     | `str.isdigit()`                         | Returns `True` if all characters in the string are digits, otherwise `False`.                   | `\"123\".isdigit()` → `True`                 |\n",
        "| `str.isalnum()`     | `str.isalnum()`                         | Returns `True` if all characters in the string are alphanumeric, otherwise `False`.             | `\"hello123\".isalnum()` → `True`            |\n",
        "| `str.islower()`     | `str.islower()`                         | Returns `True` if all characters in the string are lowercase, otherwise `False`.                | `\"hello\".islower()` → `True`               |\n",
        "| `str.isupper()`     | `str.isupper()`                         | Returns `True` if all characters in the string are uppercase, otherwise `False`.                | `\"HELLO\".isupper()` → `True`               |\n",
        "| `str.isspace()`     | `str.isspace()`                         | Returns `True` if all characters in the string are whitespace, otherwise `False`.               | `\"   \".isspace()` → `True`                 |\n",
        "| `str.zfill()`       | `str.zfill(width)`                      | Pads the string with zeros on the left, to fill a total width.                                  | `\"42\".zfill(5)` → `'00042'`                |\n",
        "| `str.center()`      | `str.center(width[, fillchar])`         | Centers the string in a field of given width, optionally padded with a specified character.     | `\"hello\".center(10)` → `'  hello   '`      |\n",
        "| `str.ljust()`       | `str.ljust(width[, fillchar])`          | Left-aligns the string in a field of given width, optionally padded with a specified character. | `\"hello\".ljust(10)` → `'hello     '`       |\n",
        "| `str.rjust()`       | `str.rjust(width[, fillchar])`          | Right-aligns the string in a field of given width, optionally padded with a specified character.| `\"hello\".rjust(10)` → `'     hello'`       |"
      ],
      "metadata": {
        "id": "70tKhG5KKQw6"
      }
    },
    {
      "cell_type": "markdown",
      "source": [
        "# **input() function**"
      ],
      "metadata": {
        "id": "rSf8jByKlqED"
      }
    },
    {
      "cell_type": "markdown",
      "source": [
        "Certainly! Below are the examples with comments showing sample input and output. Additionally, I've included the clarification regarding using `input()` without any information vs. with information.\n",
        "\n",
        "### 1. **Displaying Input Information with `print()` vs `input()`**\n",
        "\n",
        "   - **Using `input()` Without Any Prompt Information**:\n",
        "     \n",
        "     **Explanation**: Here, `input()` is called without any prompt, so the user has no guidance on what to input."
      ],
      "metadata": {
        "id": "JjgdYdTvnat-"
      }
    },
    {
      "cell_type": "code",
      "source": [
        "# Code\n",
        "name = input()\n",
        "print(\"Your name is \" + name)\n",
        "\n",
        "# Sample Input:\n",
        "# John Doe\n",
        "\n",
        "# Output:\n",
        "# Your name is John Doe"
      ],
      "metadata": {
        "id": "8W6Sn6uroDzO"
      },
      "execution_count": null,
      "outputs": []
    },
    {
      "cell_type": "markdown",
      "source": [
        "- **Using `print()` to Prompt Information before input**:\n",
        "     \n",
        "     **Explanation**: Here, `print()` is called for displaying the information to user. While input is used without any prompt, so the user has some guidance coming from the print `function()`. This is kind of inconvenient."
      ],
      "metadata": {
        "id": "mcx9GC94pwjM"
      }
    },
    {
      "cell_type": "code",
      "source": [
        "# Code\n",
        "# Note end = \"\", means the cursor will stay in the current line,\n",
        "# meaning you will see something like in line 9, where `John Doe` is something\n",
        "# user will be typing\n",
        "print(\"Enter Your Name: \", end = \"\")\n",
        "name = input()\n",
        "print(\"Your name is \" + name)\n",
        "\n",
        "# Sample Input:\n",
        "# Enter Your Name: John Doe\n",
        "\n",
        "# Output:\n",
        "# Your name is John Doe"
      ],
      "metadata": {
        "id": "JwtR07jZqG2G"
      },
      "execution_count": null,
      "outputs": []
    },
    {
      "cell_type": "markdown",
      "source": [
        "   - **Using `input()` with Information Prompt**:\n",
        "   \n",
        "    **Explanation**: The `input()` function is called with a prompt (\"Enter your name: \"), guiding the user on what to enter."
      ],
      "metadata": {
        "id": "Y1d7KMfroCk4"
      }
    },
    {
      "cell_type": "code",
      "source": [
        "# Code\n",
        "name = input(\"Enter your name: \")\n",
        "print(\"Your name is \" + name)\n",
        "\n",
        "# Sample Input:\n",
        "# Enter your name: John Doe\n",
        "\n",
        "# Output:\n",
        "# Your name is John Doe"
      ],
      "metadata": {
        "id": "Re9lgogmow29"
      },
      "execution_count": null,
      "outputs": []
    },
    {
      "cell_type": "markdown",
      "source": [
        "\n",
        "\n",
        "### 2. **Multiple Inputs Separated by `, ` (Comma and Space)**\n",
        "\n",
        "   - **Scenario**: Asking the user to enter their favorite fruits in one line, separated by commas and spaces.\n",
        "   \n",
        "    **Explanation**: The input prompt is clear, and the user is expected to input three fruits separated by commas and spaces. The program then splits the input accordingly."
      ],
      "metadata": {
        "id": "dLUHYfqLos4g"
      }
    },
    {
      "cell_type": "code",
      "source": [
        "# Code\n",
        "fruit1, fruit2, fruit3 = input(\"Enter three favorite fruits separated by ', ': \").split(\", \")\n",
        "print(\"Your favorite fruits are:\", fruit1, fruit2, fruit3)\n",
        "\n",
        "# Sample Input:\n",
        "# Enter three favorite fruits separated by ', ': Apple, Banana, Cherry\n",
        "\n",
        "# Output:\n",
        "# Your favorite fruits are: Apple Banana Cherry"
      ],
      "metadata": {
        "id": "QVbiUmuuo9aK"
      },
      "execution_count": null,
      "outputs": []
    },
    {
      "cell_type": "markdown",
      "source": [
        "\n",
        "### 3. **Multiple Inputs Separated by Space**\n",
        "\n",
        "   - **Scenario**: Asking the user to enter their three favorite animals, separated by spaces.\n",
        "\n",
        "    **Explanation**: The user is prompted to enter three animals separated by spaces, and the program uses the default space delimiter in `split()` to separate the input."
      ],
      "metadata": {
        "id": "Tgf7Pr-Ro8aA"
      }
    },
    {
      "cell_type": "code",
      "source": [
        "# Code\n",
        "animal1, animal2, animal3 = input(\"Enter three favorite animals separated by space: \").split()\n",
        "print(\"Your favorite animals are:\", animal1, animal2, animal3)\n",
        "\n",
        "# Sample Input:\n",
        "# Enter three favorite animals separated by space: Dog Cat Elephant\n",
        "\n",
        "# Output:\n",
        "# Your favorite animals are: Dog Cat Elephant"
      ],
      "metadata": {
        "id": "iqdTa3NVpJ8S"
      },
      "execution_count": null,
      "outputs": []
    },
    {
      "cell_type": "markdown",
      "source": [
        "\n",
        "### 4. **Multiple Inputs Separated by a Custom Delimiter (e.g., `-`)**\n",
        "\n",
        "   - **Scenario**: Asking the user to enter their three favorite colors, separated by hyphens.\n",
        "    **Explanation**: The input is guided to use hyphens as delimiters, and the program separates the colors based on that custom delimiter."
      ],
      "metadata": {
        "id": "1LLyN8lLpIqF"
      }
    },
    {
      "cell_type": "code",
      "source": [
        "# Code\n",
        "color1, color2, color3 = input(\"Enter three favorite colors separated by '-': \").split(\"-\")\n",
        "print(\"Your favorite colors are:\", color1, color2, color3)\n",
        "\n",
        "# Sample Input:\n",
        "# Enter three favorite colors separated by '-': Red-Green-Blue\n",
        "\n",
        "# Output:\n",
        "# Your favorite colors are: Red Green Blue"
      ],
      "metadata": {
        "id": "XgOyzCEtpSQt"
      },
      "execution_count": null,
      "outputs": []
    },
    {
      "cell_type": "markdown",
      "source": [
        "\n",
        "### 5. **Using `input()` to Guide User Input**\n",
        "\n",
        "   - **Scenario**: Asking the user to enter their full name and birthdate (in separate lines) with guidance.\n",
        "    **Explanation**: The `input()` function gives specific guidance on how to format the input. The program then captures and prints the details in a formatted output."
      ],
      "metadata": {
        "id": "Ih7iIBTSpRQA"
      }
    },
    {
      "cell_type": "code",
      "source": [
        "# Code\n",
        "full_name = input(\"Please enter your full name (e.g., John Doe): \")\n",
        "birthdate = input(\"Now, enter your birthdate (e.g., 01/01/1990): \")\n",
        "print(\"Name: \" + full_name + \", Birthdate: \" + birthdate)\n",
        "\n",
        "# Sample Input:\n",
        "# Please enter your full name (e.g., John Doe): Jane Smith\n",
        "# Now, enter your birthdate (e.g., 01/01/1990): 12/31/1995\n",
        "\n",
        "# Output:\n",
        "# Name: Jane Smith, Birthdate: 12/31/1995"
      ],
      "metadata": {
        "id": "uIRr__v2pnU1"
      },
      "execution_count": null,
      "outputs": []
    },
    {
      "cell_type": "markdown",
      "source": [
        "### 5. **Be Careful! The data you get from input() is always string type!**\n",
        "\n",
        "**Scenario**: User Inputs Length and Width to Compute Area**\n",
        "\n",
        "- **Code**:\n",
        "  ```python\n",
        "  # Taking input for length and width\n",
        "  length = input(\"Enter the length of the rectangle: \")\n",
        "  width = input(\"Enter the width of the rectangle: \")\n",
        "\n",
        "  # Trying to compute the area of the rectangle\n",
        "  area = length * width\n",
        "\n",
        "  # Printing the result\n",
        "  print(\"The area of the rectangle is: \" + area)\n",
        "  ```\n",
        "\n",
        "- **Sample Input**:\n",
        "  ```\n",
        "  Enter the length of the rectangle: 5\n",
        "  Enter the width of the rectangle: 3\n",
        "  ```\n",
        "\n",
        "- **Expected Output**:\n",
        "  ```\n",
        "  The area of the rectangle is: 15\n",
        "  ```\n",
        "\n",
        "- **Actual Output** (Program Failure):\n",
        "  ```\n",
        "  TypeError: can't multiply sequence by non-int of type 'str'\n",
        "  ```\n",
        "\n",
        "**Explanation of the Failure**:\n",
        "- The `input()` function in Python returns the input as a string. In this example, when the user enters the length and width as \"5\" and \"3\", these are treated as strings.\n",
        "- The multiplication operation `length * width` fails because you cannot multiply two strings together in this way in Python.\n",
        "- Instead of calculating the area, Python raises a `TypeError` because the multiplication operation is invalid for strings.\n",
        "\n",
        "**How to Fix It**:\n",
        "To fix the issue, you need to convert the input strings to integers or floats before performing the multiplication.\n"
      ],
      "metadata": {
        "id": "TBhiX8UTq5ft"
      }
    },
    {
      "cell_type": "markdown",
      "source": [
        "\n",
        "\n",
        "**Explanation of the Fix**:\n",
        "- The `float()` function is used to convert the string inputs to floating-point numbers, which allows the multiplication to be performed correctly.\n",
        "- The area is then calculated as a numerical value, and the result is converted back to a string using `str()` for printing."
      ],
      "metadata": {
        "id": "_RsGFSbYrXfB"
      }
    },
    {
      "cell_type": "code",
      "source": [
        "# Taking input for length and width and converting them to floats\n",
        "length = float(input(\"Enter the length of the rectangle: \"))\n",
        "width = float(input(\"Enter the width of the rectangle: \"))\n",
        "\n",
        "# Computing the area of the rectangle\n",
        "area = length * width\n",
        "\n",
        "# Printing the result\n",
        "print(f\"The area of the rectangle is: {area}\")"
      ],
      "metadata": {
        "id": "3T8QxXNqrYDS"
      },
      "execution_count": null,
      "outputs": []
    },
    {
      "cell_type": "markdown",
      "source": [
        "# **Comprehensive Regular Expression[*ADVANCE TOPIC]**\n",
        "\n",
        "    Not important for Quiz/Exam/Homework (May be you will see this in Projects)"
      ],
      "metadata": {
        "id": "Hr4qiS0IXGWX"
      }
    },
    {
      "cell_type": "markdown",
      "source": [
        "### **1. Basic Syntax**\n",
        "\n",
        "| **Pattern**  | **Description**                              | **Example**                             | **Matches**                            |\n",
        "|--------------|----------------------------------------------|-----------------------------------------|----------------------------------------|\n",
        "| `.`          | Any character except a newline               | `a.b`                                   | `acb`, `a7b`, `a_b`                    |\n",
        "| `^`          | Start of the string                          | `^Hello`                                | `Hello` in `\"Hello World\"`             |\n",
        "| `$`          | End of the string                            | `world$`                                | `world` in `\"Hello world\"`             |\n",
        "| `*`          | 0 or more repetitions of the preceding element | `ca*t`                                | `ct`, `cat`, `caaat`                   |\n",
        "| `+`          | 1 or more repetitions of the preceding element | `ca+t`                                | `cat`, `caaat`                         |\n",
        "| `?`          | 0 or 1 repetition of the preceding element   | `ca?t`                                  | `ct`, `cat`                            |\n",
        "| `{m}`        | Exactly `m` repetitions                      | `a{3}`                                  | `aaa`                                  |\n",
        "| `{m,n}`      | Between `m` and `n` repetitions              | `a{2,4}`                                | `aa`, `aaa`, `aaaa`                    |\n",
        "| `[]`         | A set of characters                          | `[abc]`                                 | `a`, `b`, `c`                          |\n",
        "| `[^]`        | Negation: Matches any character not in the set | `[^abc]`                              | Any character except `a`, `b`, or `c`  |\n",
        "| `\\`          | Escapes a special character or signals a special sequence | `\\.`                       | Matches literal `.`                    |\n",
        "\n",
        "---\n",
        "\n",
        "### **2. Special Sequences**\n",
        "\n",
        "| **Sequence** | **Description**                              | **Example**                             | **Matches**                            |\n",
        "|--------------|----------------------------------------------|-----------------------------------------|----------------------------------------|\n",
        "| `\\d`         | Any digit (0-9)                              | `\\d`                                    | `3` in `\"a3b\"`                         |\n",
        "| `\\D`         | Any non-digit                                | `\\D`                                    | `a`, `b` in `\"a3b\"`                    |\n",
        "| `\\w`         | Any word character (alphanumeric + `_`)      | `\\w`                                    | `a`, `3`, `_` in `\"a3_b\"`              |\n",
        "| `\\W`         | Any non-word character                       | `\\W`                                    | `!`, `.` in `\"hello!\"`                 |\n",
        "| `\\s`         | Any whitespace character                     | `\\s`                                    | Space, tab, newline                    |\n",
        "| `\\S`         | Any non-whitespace character                 | `\\S`                                    | `h`, `e`, `l`, `o` in `\"hello\"`        |\n",
        "| `\\b`         | Word boundary                                | `\\bword\\b`                              | `word` in `\"word,\"` but not `\"sword\"`  |\n",
        "| `\\B`         | Non-word boundary                            | `\\Bword\\B`                              | `word` in `\"swordfish\"` but not `\"word\"`|\n",
        "| `|`          | Logical OR                                   | `a|b`                                   | `a` or `b` in `\"abc\"`                  |\n",
        "| `()`         | Capture and group                           | `(abc)`                                 | `abc` as a group                       |\n",
        "| `(?:...)`    | Non-capturing group                          | `(?:abc)`                               | `abc` without capturing                |\n",
        "\n",
        "---\n",
        "\n",
        "### **3. Common Patterns**\n",
        "\n",
        "| **Pattern**  | **Description**                              | **Example**                             | **Matches**                            |\n",
        "|--------------|----------------------------------------------|-----------------------------------------|----------------------------------------|\n",
        "| `\\d{2,4}`    | Match between 2 to 4 digits                  | `\\d{2,4}`                               | `12`, `123`, `1234`                    |\n",
        "| `[A-Za-z]+`  | Match one or more letters (case-sensitive)   | `[A-Za-z]+`                             | `Hello` in `\"Hello123\"`                |\n",
        "| `[0-9]{3}-[0-9]{2}-[0-9]{4}` | Matches a social security number format | `\\d{3}-\\d{2}-\\d{4}`           | `123-45-6789`                          |\n",
        "| `\\b\\w+\\b`    | Match a full word                            | `\\b\\w+\\b`                               | `hello` in `\"hello world\"`             |\n",
        "| `(\\d{3})\\d{3}-\\d{4}` | Matches a US phone number format   | `(\\d{3}) \\d{3}-\\d{4}`                  | `(123) 456-7890`                       |\n",
        "\n",
        "---\n",
        "\n",
        "### **4. Flags**\n",
        "\n",
        "| **Flag**     | **Description**                              | **Example**                             | **Effect**                             |\n",
        "|--------------|----------------------------------------------|-----------------------------------------|----------------------------------------|\n",
        "| `re.I`       | Ignore case                                  | `re.search(r\"hello\", \"Hello\", re.I)`    | Matches case-insensitive               |\n",
        "| `re.M`       | Multiline: `^` and `$` match the start and end of each line | `re.search(r\"^Hello\", \"Hello\\nWorld\", re.M)` | Matches `\"Hello\"` at start of line |\n",
        "| `re.S`       | Dot matches all, including newlines          | `re.search(r\"Hello.*World\", \"Hello\\nWorld\", re.S)` | Matches across newlines               |\n",
        "| `re.X`       | Verbose: allows spaces and comments in pattern | `re.search(r\"\\d{3}  # Area code \\n \\d{3}-\\d{4}\", \"(123) 456-7890\", re.X)` | Improves pattern readability          |\n",
        "\n",
        "---\n",
        "\n",
        "### **5. Useful Functions**\n",
        "\n",
        "| **Function**             | **Description**                              | **Example**                             | **Output**                             |\n",
        "|--------------------------|----------------------------------------------|-----------------------------------------|----------------------------------------|\n",
        "| `re.search(pattern, string)` | Searches the string for a match to the pattern | `re.search(r\"\\d+\", \"abc123\")`           | Returns match object or `None`         |\n",
        "| `re.match(pattern, string)`  | Matches the pattern at the start of the string | `re.match(r\"\\d+\", \"123abc\")`            | Returns match object or `None`         |\n",
        "| `re.findall(pattern, string)`| Finds all non-overlapping matches of the pattern in the string | `re.findall(r\"\\d+\", \"abc123def456\")` | Returns a list of matches              |\n",
        "| `re.sub(pattern, repl, string)`| Replaces occurrences of the pattern with `repl` | `re.sub(r\"\\s+\", \"-\", \"hello world\")` | Returns the modified string            |\n",
        "| `re.split(pattern, string)` | Splits the string by the occurrences of the pattern | `re.split(r\"\\s+\", \"hello world\")`    | Returns a list of substrings           |\n",
        "\n",
        "---"
      ],
      "metadata": {
        "id": "3-Hp1xrJSYum"
      }
    },
    {
      "cell_type": "markdown",
      "source": [
        "# Playground - RegularExpression [ADVANCE TOPIC]"
      ],
      "metadata": {
        "id": "7iUccqXicxev"
      }
    },
    {
      "cell_type": "code",
      "source": [
        "import re\n",
        "re.search(r\"^Hello\", \"Hello\\nWorld\", re.M)"
      ],
      "metadata": {
        "colab": {
          "base_uri": "https://localhost:8080/"
        },
        "id": "JUuc7O3iSYPc",
        "outputId": "8ab67ed4-c11e-41fd-e6af-fbf112bf9c9a"
      },
      "execution_count": null,
      "outputs": [
        {
          "output_type": "execute_result",
          "data": {
            "text/plain": [
              "<re.Match object; span=(0, 5), match='Hello'>"
            ]
          },
          "metadata": {},
          "execution_count": 3
        }
      ]
    },
    {
      "cell_type": "code",
      "source": [
        "import re\n",
        "\n",
        "# Paragraph\n",
        "text = \"\"\"\n",
        "John Doe is a software engineer living at 1234 Elm St., Springfield, IL 62704.\n",
        "You can reach him at (555)-123-4567 or john.doe@example.com.\n",
        "He's active on LinkedIn at linkedin.com/in/johndoe,\n",
        "and you can follow him on Twitter (@johndoe) and Instagram (@john.doe).\n",
        "\"\"\"\n",
        "\n",
        "# Extract Email\n",
        "email_pattern = r\"\\b[A-Za-z0-9._%+-]+@[A-Za-z0-9.-]+\\.[A-Z|a-z]{2,}\\b\"\n",
        "email = re.search(email_pattern, text)\n",
        "print(f\"Email: {email.group()}\")  # Output: john.doe@example.com\n",
        "\n",
        "# Extract Phone Number\n",
        "phone_pattern = r\"\\(\\d{3}\\)-\\d{3}-\\d{4}\"\n",
        "phone = re.search(phone_pattern, text)\n",
        "print(f\"Phone: {phone.group()}\")  # Output: (555)-123-4567\n",
        "\n",
        "# Updated Address Pattern\n",
        "address_pattern = r\"\\d{1,5} \\w+ \\w+., \\w+, [A-Z]{2} \\d{5}\"\n",
        "address = re.search(address_pattern, text)\n",
        "print(f\"Address: {address.group()}\")  # Output: 1234 Elm St., Springfield, IL 62704\n",
        "\n",
        "# Extract LinkedIn Profile\n",
        "linkedin_pattern = r\"linkedin\\.com/in/[A-Za-z0-9_-]+\"\n",
        "linkedin = re.search(linkedin_pattern, text)\n",
        "print(f\"LinkedIn: {linkedin.group()}\")  # Output: linkedin.com/in/johndoe\n",
        "\n",
        "# Extract Twitter Handle\n",
        "twitter_pattern = r\"@([A-Za-z0-9_]+)\"\n",
        "twitter = re.search(twitter_pattern, text)\n",
        "print(f\"Twitter: {twitter.group()}\")  # Output: @johndoe\n",
        "\n",
        "# Extract Instagram Handle\n",
        "instagram_pattern = r\"@([A-Za-z0-9._]+)\"\n",
        "instagram = re.search(instagram_pattern, text)\n",
        "print(f\"Instagram: {instagram.group()}\")  # Output: @john.doe\n"
      ],
      "metadata": {
        "colab": {
          "base_uri": "https://localhost:8080/"
        },
        "id": "iCnlYnVWXL-v",
        "outputId": "c154ccfd-a228-49c9-cac6-49d6c30e741c"
      },
      "execution_count": null,
      "outputs": [
        {
          "output_type": "stream",
          "name": "stdout",
          "text": [
            "Email: john.doe@example.com\n",
            "Phone: (555)-123-4567\n",
            "Address: 1234 Elm St., Springfield, IL 62704\n",
            "LinkedIn: linkedin.com/in/johndoe\n",
            "Twitter: @example\n",
            "Instagram: @example.com.\n"
          ]
        }
      ]
    },
    {
      "cell_type": "markdown",
      "source": [
        "### **Explanation:**\n",
        "\n",
        "- **Email Pattern:**\n",
        "  - **Pattern:** `r\"\\b[A-Za-z0-9._%+-]+@[A-Za-z0-9.-]+\\.[A-Z|a-z]{2,}\\b\"`\n",
        "  - **Comment:** Matches a standard email format, capturing all characters before and after the `@` symbol and the domain.\n",
        "\n",
        "- **Phone Number Pattern:**\n",
        "  - **Pattern:** `r\"\\(\\d{3}\\)-\\d{3}-\\d{4}\"`\n",
        "  - **Comment:** Matches phone numbers in the format `(xxx)-xxx-xxxx`.\n",
        "\n",
        "- **Address Pattern:**\n",
        "  - **Pattern:** `r\"\\d{1,5} \\w+ \\w+., \\w+, [A-Z]{2} \\d{5}\"`\n",
        "  - **Comment:** Matches a street address, including a street number, street name, city, state, and ZIP code.\n",
        "\n",
        "- **LinkedIn Profile Pattern:**\n",
        "  - **Pattern:** `r\"linkedin\\.com/in/[A-Za-z0-9_-]+\"`\n",
        "  - **Comment:** Matches LinkedIn profile URLs, specifically the portion after `linkedin.com/in/`.\n",
        "\n",
        "- **Twitter Handle Pattern:**\n",
        "  - **Pattern:** `r\"@([A-Za-z0-9_]+)\"`\n",
        "  - **Comment:** Matches Twitter handles, which start with `@` followed by letters, numbers, or underscores.\n",
        "\n",
        "- **Instagram Handle Pattern:**\n",
        "  - **Pattern:** `r\"@([A-Za-z0-9._]+)\"`\n",
        "  - **Comment:** Matches Instagram handles, which can include periods and underscores along with letters and numbers."
      ],
      "metadata": {
        "id": "e2fUhCABZTjc"
      }
    },
    {
      "cell_type": "markdown",
      "source": [
        "#  **Exercise: Analyzing a Person's Data Using Strings, String Functions, and Regular Expressions**?"
      ],
      "metadata": {
        "id": "LK31m5TlZxYb"
      }
    },
    {
      "cell_type": "markdown",
      "source": [
        "\n",
        "\n",
        "#### **Motivation:**\n",
        "In this exercise, we’ll expand our use of string manipulation by integrating string functions with regular expressions. You'll extract specific information from a descriptive text about a person, format the data using string functions, and generate a report using f-strings. This exercise will reinforce your understanding of both string functions and regular expressions.\n",
        "\n",
        "#### **Scenario:**\n",
        "You have a block of text that describes a person’s hobbies, favorite books, and includes some random numbers. Your task is to extract this data, use string functions to format the text, calculate some metrics, and print the results in a nicely formatted report.\n",
        "\n",
        "---\n",
        "\n",
        "### **Step 1: Extracting and Formatting Information from Text**\n",
        "\n",
        "**Given Text:**\n"
      ],
      "metadata": {
        "id": "3ot07hoYa-wm"
      }
    },
    {
      "cell_type": "code",
      "source": [
        "text = \"\"\"\n",
        "John loves to engage in the following hobbies: hiking, painting, reading, and coding.\n",
        "His favorite books include: '1984' by George Orwell, 'To Kill a Mockingbird' by Harper Lee, and 'The Great Gatsby' by F. Scott Fitzgerald.\n",
        "Some random numbers he likes are: 42, 7, 19, and 100.\n",
        "\"\"\""
      ],
      "metadata": {
        "id": "M7taGs5Jbyew"
      },
      "execution_count": null,
      "outputs": []
    },
    {
      "cell_type": "markdown",
      "source": [
        "### Expected Output\n",
        "```\n",
        "Category             Details                                      \n",
        "============================================================\n",
        "Hobbies              Hiking, Painting, Reading, Coding            \n",
        "Books                1984, TO KILL A MOCKINGBIRD, THE GREAT GATSBY\n",
        "Numbers              42, 7, 19, 100                                \n",
        "============================================================\n",
        "Total Hobbies        4                                           \n",
        "Total Books          3                                           \n",
        "Sum of Numbers       168                                          \n",
        "```"
      ],
      "metadata": {
        "id": "lFFF7qhgdDB8"
      }
    },
    {
      "cell_type": "markdown",
      "source": [
        "\n",
        "---\n",
        "\n",
        "### **Step 2: Using Regular Expressions and String Functions to Extract and Format Data**\n",
        "\n"
      ],
      "metadata": {
        "id": "xIr21SbVbxlW"
      }
    },
    {
      "cell_type": "code",
      "source": [
        "import re\n",
        "\n",
        "# Regular expressions to extract hobbies, books, and numbers\n",
        "hobbies_pattern = r\"hobbies: (.+?)[.]\"\n",
        "books_pattern = r\"include: '(.+?)'\"\n",
        "numbers_pattern = r\"\\d+\"\n",
        "\n",
        "# Extracting hobbies\n",
        "hobbies_match = re.search(hobbies_pattern, text)\n",
        "hobbies = hobbies_match.group(1)  # Extract the hobbies string\n",
        "hobbies = hobbies.replace(\"and \", \"\")  # Remove the word 'and'\n",
        "hobbies_list = hobbies.split(\", \")  # Split into a list\n",
        "\n",
        "# Format hobbies (e.g., making them title case)\n",
        "formatted_hobbies = [hobby.title() for hobby in hobbies_list]\n",
        "\n",
        "# Extracting books\n",
        "books_match = re.findall(books_pattern, text)\n",
        "books = books_match  # Books are already split by re.findall\n",
        "\n",
        "# Format books (e.g., making them uppercase)\n",
        "formatted_books = [book.upper() for book in books]\n",
        "\n",
        "# Extracting numbers\n",
        "numbers_match = re.findall(numbers_pattern, text)\n",
        "numbers = list(map(int, numbers_match))  # Convert string numbers to integers"
      ],
      "metadata": {
        "id": "WAxwBIEibsOA"
      },
      "execution_count": null,
      "outputs": []
    },
    {
      "cell_type": "markdown",
      "source": [
        "\n",
        "---\n",
        "\n",
        "### **Step 3: Calculating Metrics**\n",
        "\n",
        "**Task:**\n",
        "1. Count the total number of hobbies.\n",
        "2. Count the number of favorite books mentioned.\n",
        "3. Sum the random numbers.\n",
        "\n",
        "**Code:**\n"
      ],
      "metadata": {
        "id": "MPNaaeIBbqCx"
      }
    },
    {
      "cell_type": "code",
      "source": [
        "# Count the total number of hobbies\n",
        "total_hobbies = len(formatted_hobbies)\n",
        "\n",
        "# Count the total number of books\n",
        "total_books = len(formatted_books)\n",
        "\n",
        "# Calculate the sum of random numbers\n",
        "sum_of_numbers = sum(numbers)"
      ],
      "metadata": {
        "id": "3uRXdjnLb5jz"
      },
      "execution_count": null,
      "outputs": []
    },
    {
      "cell_type": "markdown",
      "source": [
        "---\n",
        "\n",
        "### **Step 4: Generating the Report Using F-Strings**\n",
        "\n",
        "**Task:**\n",
        "1. Print the extracted data (hobbies, books, and numbers) in a formatted report.\n",
        "2. Print the calculated metrics (total hobbies, total books, sum of numbers).\n",
        "\n",
        "**Code:**\n"
      ],
      "metadata": {
        "id": "8Ka7Ajoob4eY"
      }
    },
    {
      "cell_type": "code",
      "source": [
        "# Header for the report\n",
        "header = f\"{'Category':<20}{'Details':<40}\"\n",
        "print(header)\n",
        "print(\"=\"*60)\n",
        "\n",
        "# Print Hobbies\n",
        "print(f\"{'Hobbies':<20}{', '.join(formatted_hobbies):<40}\")\n",
        "\n",
        "# Print Books\n",
        "print(f\"{'Books':<20}{', '.join(formatted_books):<40}\")\n",
        "\n",
        "# Print Numbers\n",
        "print(f\"{'Numbers':<20}{', '.join(map(str, numbers)):<40}\")\n",
        "\n",
        "# Print the metrics\n",
        "print(\"=\"*60)\n",
        "print(f\"{'Total Hobbies':<20}{total_hobbies:<40}\")\n",
        "print(f\"{'Total Books':<20}{total_books:<40}\")\n",
        "print(f\"{'Sum of Numbers':<20}{sum_of_numbers:<40}\")"
      ],
      "metadata": {
        "colab": {
          "base_uri": "https://localhost:8080/"
        },
        "id": "3vOqfQmKcCdi",
        "outputId": "2bb78b02-fcee-4f84-9cf5-944f20c6ed8e"
      },
      "execution_count": null,
      "outputs": [
        {
          "output_type": "stream",
          "name": "stdout",
          "text": [
            "Category            Details                                 \n",
            "============================================================\n",
            "Hobbies             Hiking, Painting, Reading, Coding       \n",
            "Books               1984                                    \n",
            "Numbers             1984, 42, 7, 19, 100                    \n",
            "============================================================\n",
            "Total Hobbies       4                                       \n",
            "Total Books         1                                       \n",
            "Sum of Numbers      2152                                    \n"
          ]
        }
      ]
    },
    {
      "cell_type": "markdown",
      "source": [
        "---\n",
        "\n",
        "### **Summary of What We Achieved:**\n",
        "\n",
        "- **String Functions:** We used string functions like `replace()`, `split()`, `title()`, and `upper()` to format and manipulate the extracted data.\n",
        "- **Regular Expressions:** We used regular expressions to extract structured data (hobbies, books, numbers) from the text.\n",
        "- **F-Strings:** We formatted and printed the extracted and calculated data using f-strings.\n",
        "- **Simple Calculations:** We performed basic calculations (counting and summing) and displayed them in our report."
      ],
      "metadata": {
        "id": "UD5AtzpmcBRd"
      }
    },
    {
      "cell_type": "markdown",
      "source": [
        "# READING DUTIES !!!"
      ],
      "metadata": {
        "id": "g84wM0cNeAOC"
      }
    },
    {
      "cell_type": "markdown",
      "source": [
        "### **Exercise: Analyzing Structural Components in a Construction Project**\n",
        "\n",
        "#### **Motivation:**\n",
        "In this exercise, you'll work with data related to the dimensions and costs of various structural components in a construction project. You will extract this information from a text block, perform simple arithmetic operations to calculate the total cost, and generate a report. This exercise is designed to reinforce basic Python concepts relevant to civil engineering.\n",
        "\n",
        "#### **Scenario:**\n",
        "You have a block of text that describes the dimensions (length, width, height) and costs of different structural components. Your task is to extract this data, calculate the volume of each component, and then determine the total cost of the materials. Finally, you'll generate a formatted report.\n",
        "\n",
        "---\n",
        "\n",
        "### **Step 1: Extracting Information from Text**\n",
        "\n",
        "**Given Text:**\n"
      ],
      "metadata": {
        "id": "_b37UAkleKn7"
      }
    },
    {
      "cell_type": "code",
      "source": [
        "text = \"\"\"\n",
        "The project includes the following structural components:\n",
        "- Beam: 5m x 0.3m x 0.5m at $300 per cubic meter\n",
        "- Column: 3m x 0.4m x 0.4m at $400 per cubic meter\n",
        "- Slab: 10m x 6m x 0.2m at $250 per cubic meter\n",
        "\"\"\""
      ],
      "metadata": {
        "id": "gk2ujwuceZU1"
      },
      "execution_count": null,
      "outputs": []
    },
    {
      "cell_type": "markdown",
      "source": [
        "**Expected Output:**\n",
        "\n",
        "```\n",
        "Component       Dimensions (m)           Volume (m^3)        Total Cost         \n",
        "===========================================================================\n",
        "Beam            5.0m x 0.3m x 0.5m       0.75                 $225.00             \n",
        "Column          3.0m x 0.4m x 0.4m       0.48                 $192.00             \n",
        "Slab            10.0m x 6.0m x 0.2m      12.00                $3000.00            \n",
        "===========================================================================\n",
        "Overall Total Cost                                            $3417.00           \n",
        "```"
      ],
      "metadata": {
        "id": "t3qZ4SwSe3vH"
      }
    },
    {
      "cell_type": "markdown",
      "source": [
        "\n",
        "### **Step 2: Extracting Data Using Regular Expressions and Basic String Manipulation**\n",
        "\n",
        "**Code:**\n"
      ],
      "metadata": {
        "id": "O6uX0Hh9eXn2"
      }
    },
    {
      "cell_type": "code",
      "source": [
        "import re\n",
        "\n",
        "# Regular expressions to extract dimensions and costs\n",
        "dimensions_pattern = r\"(\\d+\\.?\\d*)m x (\\d+\\.?\\d*)m x (\\d+\\.?\\d*)m\"\n",
        "cost_pattern = r\"\\$(\\d+\\.?\\d*) per cubic meter\"\n",
        "\n",
        "# Extracting dimensions for Beam\n",
        "beam_dimensions = re.search(dimensions_pattern, text)\n",
        "beam_length = float(beam_dimensions.group(1))\n",
        "beam_width = float(beam_dimensions.group(2))\n",
        "beam_height = float(beam_dimensions.group(3))\n",
        "\n",
        "# Extracting cost for Beam\n",
        "beam_cost_match = re.search(cost_pattern, text)\n",
        "beam_cost_per_cubic_meter = float(beam_cost_match.group(1))\n",
        "\n",
        "# Extracting dimensions for Column (using slicing)\n",
        "column_start = text.find(\"Column:\")\n",
        "column_text = text[column_start:]\n",
        "column_dimensions = re.search(dimensions_pattern, column_text)\n",
        "column_length = float(column_dimensions.group(1))\n",
        "column_width = float(column_dimensions.group(2))\n",
        "column_height = float(column_dimensions.group(3))\n",
        "\n",
        "# Extracting cost for Column\n",
        "column_cost_match = re.search(cost_pattern, column_text)\n",
        "column_cost_per_cubic_meter = float(column_cost_match.group(1))\n",
        "\n",
        "# Extracting dimensions for Slab (using slicing)\n",
        "slab_start = text.find(\"Slab:\")\n",
        "slab_text = text[slab_start:]\n",
        "slab_dimensions = re.search(dimensions_pattern, slab_text)\n",
        "slab_length = float(slab_dimensions.group(1))\n",
        "slab_width = float(slab_dimensions.group(2))\n",
        "slab_height = float(slab_dimensions.group(3))\n",
        "\n",
        "# Extracting cost for Slab\n",
        "slab_cost_match = re.search(cost_pattern, slab_text)\n",
        "slab_cost_per_cubic_meter = float(slab_cost_match.group(1))"
      ],
      "metadata": {
        "id": "g0d_qMlqefZg"
      },
      "execution_count": null,
      "outputs": []
    },
    {
      "cell_type": "markdown",
      "source": [
        "\n",
        "### **Step 3: Calculating Volumes and Total Costs**\n",
        "\n",
        "**Task:**\n",
        "1. Calculate the volume of each structural component.\n",
        "2. Calculate the total cost for each component.\n",
        "\n",
        "**Code:**\n",
        "\n"
      ],
      "metadata": {
        "id": "zA-JotC7eeNF"
      }
    },
    {
      "cell_type": "code",
      "source": [
        "# Calculate the volume of each component\n",
        "beam_volume = beam_length * beam_width * beam_height\n",
        "column_volume = column_length * column_width * column_height\n",
        "slab_volume = slab_length * slab_width * slab_height\n",
        "\n",
        "# Calculate the total cost for each component\n",
        "beam_total_cost = beam_volume * beam_cost_per_cubic_meter\n",
        "column_total_cost = column_volume * column_cost_per_cubic_meter\n",
        "slab_total_cost = slab_volume * slab_cost_per_cubic_meter\n",
        "\n",
        "# Calculate the overall total cost\n",
        "overall_total_cost = beam_total_cost + column_total_cost + slab_total_cost"
      ],
      "metadata": {
        "id": "-xnVcFDEeofH"
      },
      "execution_count": null,
      "outputs": []
    },
    {
      "cell_type": "markdown",
      "source": [
        "### **Step 4: Generating the Report Using F-Strings**\n",
        "\n",
        "**Task:**\n",
        "1. Print the extracted data (dimensions, volumes, costs) in a formatted report.\n",
        "2. Print the calculated total costs and overall total cost.\n",
        "\n",
        "**Code:**\n"
      ],
      "metadata": {
        "id": "zkcS6-4wenaq"
      }
    },
    {
      "cell_type": "code",
      "source": [
        "# Header for the report\n",
        "header = f\"{'Component':<15}{'Dimensions (m)':<25}{'Volume (m^3)':<20}{'Total Cost':<20}\"\n",
        "print(header)\n",
        "print(\"=\"*75)\n",
        "\n",
        "# Print details for Beam\n",
        "beam_dimensions_str = f\"{beam_length}m x {beam_width}m x {beam_height}m\"\n",
        "print(f\"{'Beam':<15}{beam_dimensions_str:<25}{beam_volume:<20.2f}{f'${beam_total_cost:.2f}':<20}\")\n",
        "\n",
        "# Print details for Column\n",
        "column_dimensions_str = f\"{column_length}m x {column_width}m x {column_height}m\"\n",
        "print(f\"{'Column':<15}{column_dimensions_str:<25}{column_volume:<20.2f}{f'${column_total_cost:.2f}':<20}\")\n",
        "\n",
        "# Print details for Slab\n",
        "slab_dimensions_str = f\"{slab_length}m x {slab_width}m x {slab_height}m\"\n",
        "print(f\"{'Slab':<15}{slab_dimensions_str:<25}{slab_volume:<20.2f}{f'${slab_total_cost:.2f}':<20}\")\n",
        "\n",
        "# Print the overall total cost\n",
        "print(\"=\"*75)\n",
        "print(f\"{'Overall Total Cost':<60}{f'${overall_total_cost:.2f}':<20}\")"
      ],
      "metadata": {
        "colab": {
          "base_uri": "https://localhost:8080/"
        },
        "id": "lo8_hfiuew4Y",
        "outputId": "cdf0179e-afb3-40af-dc70-660c61118a9f"
      },
      "execution_count": null,
      "outputs": [
        {
          "output_type": "stream",
          "name": "stdout",
          "text": [
            "Component      Dimensions (m)           Volume (m^3)        Total Cost          \n",
            "===========================================================================\n",
            "Beam           5.0m x 0.3m x 0.5m       0.75                $225.00             \n",
            "Column         3.0m x 0.4m x 0.4m       0.48                $192.00             \n",
            "Slab           10.0m x 6.0m x 0.2m      12.00               $3000.00            \n",
            "===========================================================================\n",
            "Overall Total Cost                                          $3417.00            \n"
          ]
        }
      ]
    },
    {
      "cell_type": "markdown",
      "source": [
        "### **Summary of What We Achieved:**\n",
        "\n",
        "- **Basic String Manipulation:** We extracted specific parts of a string using basic string slicing and regular expressions.\n",
        "- **Regular Expressions:** We used regular expressions to extract structured data (dimensions, costs) from the text.\n",
        "- **F-Strings:** We formatted and printed the extracted and calculated data using f-strings.\n",
        "- **Simple Calculations:** We performed basic arithmetic operations to calculate volumes and total costs, and displayed them in our report."
      ],
      "metadata": {
        "id": "0dC-cNxdeun-"
      }
    }
  ]
}